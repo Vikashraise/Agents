{
  "nbformat": 4,
  "nbformat_minor": 0,
  "metadata": {
    "colab": {
      "provenance": []
    },
    "kernelspec": {
      "name": "python3",
      "display_name": "Python 3"
    },
    "language_info": {
      "name": "python"
    }
  },
  "cells": [
    {
      "cell_type": "code",
      "execution_count": 1,
      "metadata": {
        "colab": {
          "base_uri": "https://localhost:8080/"
        },
        "id": "pFDx2ke0zPZ6",
        "outputId": "7fbf886a-8f40-4834-c6d1-8deb955cd74a"
      },
      "outputs": [
        {
          "output_type": "stream",
          "name": "stdout",
          "text": [
            "Requirement already satisfied: langchain in /usr/local/lib/python3.10/dist-packages (0.3.14)\n",
            "Collecting langgraph\n",
            "  Downloading langgraph-0.2.62-py3-none-any.whl.metadata (15 kB)\n",
            "Requirement already satisfied: PyYAML>=5.3 in /usr/local/lib/python3.10/dist-packages (from langchain) (6.0.2)\n",
            "Requirement already satisfied: SQLAlchemy<3,>=1.4 in /usr/local/lib/python3.10/dist-packages (from langchain) (2.0.36)\n",
            "Requirement already satisfied: aiohttp<4.0.0,>=3.8.3 in /usr/local/lib/python3.10/dist-packages (from langchain) (3.11.11)\n",
            "Requirement already satisfied: async-timeout<5.0.0,>=4.0.0 in /usr/local/lib/python3.10/dist-packages (from langchain) (4.0.3)\n",
            "Requirement already satisfied: langchain-core<0.4.0,>=0.3.29 in /usr/local/lib/python3.10/dist-packages (from langchain) (0.3.29)\n",
            "Requirement already satisfied: langchain-text-splitters<0.4.0,>=0.3.3 in /usr/local/lib/python3.10/dist-packages (from langchain) (0.3.5)\n",
            "Requirement already satisfied: langsmith<0.3,>=0.1.17 in /usr/local/lib/python3.10/dist-packages (from langchain) (0.2.10)\n",
            "Requirement already satisfied: numpy<2,>=1.22.4 in /usr/local/lib/python3.10/dist-packages (from langchain) (1.26.4)\n",
            "Requirement already satisfied: pydantic<3.0.0,>=2.7.4 in /usr/local/lib/python3.10/dist-packages (from langchain) (2.10.4)\n",
            "Requirement already satisfied: requests<3,>=2 in /usr/local/lib/python3.10/dist-packages (from langchain) (2.32.3)\n",
            "Requirement already satisfied: tenacity!=8.4.0,<10,>=8.1.0 in /usr/local/lib/python3.10/dist-packages (from langchain) (9.0.0)\n",
            "Collecting langgraph-checkpoint<3.0.0,>=2.0.4 (from langgraph)\n",
            "  Downloading langgraph_checkpoint-2.0.9-py3-none-any.whl.metadata (4.6 kB)\n",
            "Collecting langgraph-sdk<0.2.0,>=0.1.42 (from langgraph)\n",
            "  Downloading langgraph_sdk-0.1.51-py3-none-any.whl.metadata (1.8 kB)\n",
            "Requirement already satisfied: aiohappyeyeballs>=2.3.0 in /usr/local/lib/python3.10/dist-packages (from aiohttp<4.0.0,>=3.8.3->langchain) (2.4.4)\n",
            "Requirement already satisfied: aiosignal>=1.1.2 in /usr/local/lib/python3.10/dist-packages (from aiohttp<4.0.0,>=3.8.3->langchain) (1.3.2)\n",
            "Requirement already satisfied: attrs>=17.3.0 in /usr/local/lib/python3.10/dist-packages (from aiohttp<4.0.0,>=3.8.3->langchain) (24.3.0)\n",
            "Requirement already satisfied: frozenlist>=1.1.1 in /usr/local/lib/python3.10/dist-packages (from aiohttp<4.0.0,>=3.8.3->langchain) (1.5.0)\n",
            "Requirement already satisfied: multidict<7.0,>=4.5 in /usr/local/lib/python3.10/dist-packages (from aiohttp<4.0.0,>=3.8.3->langchain) (6.1.0)\n",
            "Requirement already satisfied: propcache>=0.2.0 in /usr/local/lib/python3.10/dist-packages (from aiohttp<4.0.0,>=3.8.3->langchain) (0.2.1)\n",
            "Requirement already satisfied: yarl<2.0,>=1.17.0 in /usr/local/lib/python3.10/dist-packages (from aiohttp<4.0.0,>=3.8.3->langchain) (1.18.3)\n",
            "Requirement already satisfied: jsonpatch<2.0,>=1.33 in /usr/local/lib/python3.10/dist-packages (from langchain-core<0.4.0,>=0.3.29->langchain) (1.33)\n",
            "Requirement already satisfied: packaging<25,>=23.2 in /usr/local/lib/python3.10/dist-packages (from langchain-core<0.4.0,>=0.3.29->langchain) (24.2)\n",
            "Requirement already satisfied: typing-extensions>=4.7 in /usr/local/lib/python3.10/dist-packages (from langchain-core<0.4.0,>=0.3.29->langchain) (4.12.2)\n",
            "Requirement already satisfied: msgpack<2.0.0,>=1.1.0 in /usr/local/lib/python3.10/dist-packages (from langgraph-checkpoint<3.0.0,>=2.0.4->langgraph) (1.1.0)\n",
            "Requirement already satisfied: httpx>=0.25.2 in /usr/local/lib/python3.10/dist-packages (from langgraph-sdk<0.2.0,>=0.1.42->langgraph) (0.28.1)\n",
            "Requirement already satisfied: orjson>=3.10.1 in /usr/local/lib/python3.10/dist-packages (from langgraph-sdk<0.2.0,>=0.1.42->langgraph) (3.10.13)\n",
            "Requirement already satisfied: requests-toolbelt<2.0.0,>=1.0.0 in /usr/local/lib/python3.10/dist-packages (from langsmith<0.3,>=0.1.17->langchain) (1.0.0)\n",
            "Requirement already satisfied: annotated-types>=0.6.0 in /usr/local/lib/python3.10/dist-packages (from pydantic<3.0.0,>=2.7.4->langchain) (0.7.0)\n",
            "Requirement already satisfied: pydantic-core==2.27.2 in /usr/local/lib/python3.10/dist-packages (from pydantic<3.0.0,>=2.7.4->langchain) (2.27.2)\n",
            "Requirement already satisfied: charset-normalizer<4,>=2 in /usr/local/lib/python3.10/dist-packages (from requests<3,>=2->langchain) (3.4.1)\n",
            "Requirement already satisfied: idna<4,>=2.5 in /usr/local/lib/python3.10/dist-packages (from requests<3,>=2->langchain) (3.10)\n",
            "Requirement already satisfied: urllib3<3,>=1.21.1 in /usr/local/lib/python3.10/dist-packages (from requests<3,>=2->langchain) (2.3.0)\n",
            "Requirement already satisfied: certifi>=2017.4.17 in /usr/local/lib/python3.10/dist-packages (from requests<3,>=2->langchain) (2024.12.14)\n",
            "Requirement already satisfied: greenlet!=0.4.17 in /usr/local/lib/python3.10/dist-packages (from SQLAlchemy<3,>=1.4->langchain) (3.1.1)\n",
            "Requirement already satisfied: anyio in /usr/local/lib/python3.10/dist-packages (from httpx>=0.25.2->langgraph-sdk<0.2.0,>=0.1.42->langgraph) (3.7.1)\n",
            "Requirement already satisfied: httpcore==1.* in /usr/local/lib/python3.10/dist-packages (from httpx>=0.25.2->langgraph-sdk<0.2.0,>=0.1.42->langgraph) (1.0.7)\n",
            "Requirement already satisfied: h11<0.15,>=0.13 in /usr/local/lib/python3.10/dist-packages (from httpcore==1.*->httpx>=0.25.2->langgraph-sdk<0.2.0,>=0.1.42->langgraph) (0.14.0)\n",
            "Requirement already satisfied: jsonpointer>=1.9 in /usr/local/lib/python3.10/dist-packages (from jsonpatch<2.0,>=1.33->langchain-core<0.4.0,>=0.3.29->langchain) (3.0.0)\n",
            "Requirement already satisfied: sniffio>=1.1 in /usr/local/lib/python3.10/dist-packages (from anyio->httpx>=0.25.2->langgraph-sdk<0.2.0,>=0.1.42->langgraph) (1.3.1)\n",
            "Requirement already satisfied: exceptiongroup in /usr/local/lib/python3.10/dist-packages (from anyio->httpx>=0.25.2->langgraph-sdk<0.2.0,>=0.1.42->langgraph) (1.2.2)\n",
            "Downloading langgraph-0.2.62-py3-none-any.whl (138 kB)\n",
            "\u001b[2K   \u001b[90m━━━━━━━━━━━━━━━━━━━━━━━━━━━━━━━━━━━━━━━━\u001b[0m \u001b[32m138.2/138.2 kB\u001b[0m \u001b[31m4.6 MB/s\u001b[0m eta \u001b[36m0:00:00\u001b[0m\n",
            "\u001b[?25hDownloading langgraph_checkpoint-2.0.9-py3-none-any.whl (37 kB)\n",
            "Downloading langgraph_sdk-0.1.51-py3-none-any.whl (44 kB)\n",
            "\u001b[2K   \u001b[90m━━━━━━━━━━━━━━━━━━━━━━━━━━━━━━━━━━━━━━━━\u001b[0m \u001b[32m44.7/44.7 kB\u001b[0m \u001b[31m2.8 MB/s\u001b[0m eta \u001b[36m0:00:00\u001b[0m\n",
            "\u001b[?25hInstalling collected packages: langgraph-sdk, langgraph-checkpoint, langgraph\n",
            "Successfully installed langgraph-0.2.62 langgraph-checkpoint-2.0.9 langgraph-sdk-0.1.51\n"
          ]
        }
      ],
      "source": [
        "!pip install langchain langgraph"
      ]
    },
    {
      "cell_type": "code",
      "source": [
        "!pip install langchain-community --upgrade\n",
        "!pip install langchain --upgrade"
      ],
      "metadata": {
        "colab": {
          "base_uri": "https://localhost:8080/"
        },
        "id": "M2GJuMZ6zhAU",
        "outputId": "292c4d60-c19d-4c68-e520-3adf90c51acd"
      },
      "execution_count": 2,
      "outputs": [
        {
          "output_type": "stream",
          "name": "stdout",
          "text": [
            "Collecting langchain-community\n",
            "  Downloading langchain_community-0.3.14-py3-none-any.whl.metadata (2.9 kB)\n",
            "Requirement already satisfied: PyYAML>=5.3 in /usr/local/lib/python3.10/dist-packages (from langchain-community) (6.0.2)\n",
            "Requirement already satisfied: SQLAlchemy<3,>=1.4 in /usr/local/lib/python3.10/dist-packages (from langchain-community) (2.0.36)\n",
            "Requirement already satisfied: aiohttp<4.0.0,>=3.8.3 in /usr/local/lib/python3.10/dist-packages (from langchain-community) (3.11.11)\n",
            "Collecting dataclasses-json<0.7,>=0.5.7 (from langchain-community)\n",
            "  Downloading dataclasses_json-0.6.7-py3-none-any.whl.metadata (25 kB)\n",
            "Collecting httpx-sse<0.5.0,>=0.4.0 (from langchain-community)\n",
            "  Downloading httpx_sse-0.4.0-py3-none-any.whl.metadata (9.0 kB)\n",
            "Requirement already satisfied: langchain<0.4.0,>=0.3.14 in /usr/local/lib/python3.10/dist-packages (from langchain-community) (0.3.14)\n",
            "Requirement already satisfied: langchain-core<0.4.0,>=0.3.29 in /usr/local/lib/python3.10/dist-packages (from langchain-community) (0.3.29)\n",
            "Requirement already satisfied: langsmith<0.3,>=0.1.125 in /usr/local/lib/python3.10/dist-packages (from langchain-community) (0.2.10)\n",
            "Requirement already satisfied: numpy<2,>=1.22.4 in /usr/local/lib/python3.10/dist-packages (from langchain-community) (1.26.4)\n",
            "Collecting pydantic-settings<3.0.0,>=2.4.0 (from langchain-community)\n",
            "  Downloading pydantic_settings-2.7.1-py3-none-any.whl.metadata (3.5 kB)\n",
            "Requirement already satisfied: requests<3,>=2 in /usr/local/lib/python3.10/dist-packages (from langchain-community) (2.32.3)\n",
            "Requirement already satisfied: tenacity!=8.4.0,<10,>=8.1.0 in /usr/local/lib/python3.10/dist-packages (from langchain-community) (9.0.0)\n",
            "Requirement already satisfied: aiohappyeyeballs>=2.3.0 in /usr/local/lib/python3.10/dist-packages (from aiohttp<4.0.0,>=3.8.3->langchain-community) (2.4.4)\n",
            "Requirement already satisfied: aiosignal>=1.1.2 in /usr/local/lib/python3.10/dist-packages (from aiohttp<4.0.0,>=3.8.3->langchain-community) (1.3.2)\n",
            "Requirement already satisfied: async-timeout<6.0,>=4.0 in /usr/local/lib/python3.10/dist-packages (from aiohttp<4.0.0,>=3.8.3->langchain-community) (4.0.3)\n",
            "Requirement already satisfied: attrs>=17.3.0 in /usr/local/lib/python3.10/dist-packages (from aiohttp<4.0.0,>=3.8.3->langchain-community) (24.3.0)\n",
            "Requirement already satisfied: frozenlist>=1.1.1 in /usr/local/lib/python3.10/dist-packages (from aiohttp<4.0.0,>=3.8.3->langchain-community) (1.5.0)\n",
            "Requirement already satisfied: multidict<7.0,>=4.5 in /usr/local/lib/python3.10/dist-packages (from aiohttp<4.0.0,>=3.8.3->langchain-community) (6.1.0)\n",
            "Requirement already satisfied: propcache>=0.2.0 in /usr/local/lib/python3.10/dist-packages (from aiohttp<4.0.0,>=3.8.3->langchain-community) (0.2.1)\n",
            "Requirement already satisfied: yarl<2.0,>=1.17.0 in /usr/local/lib/python3.10/dist-packages (from aiohttp<4.0.0,>=3.8.3->langchain-community) (1.18.3)\n",
            "Collecting marshmallow<4.0.0,>=3.18.0 (from dataclasses-json<0.7,>=0.5.7->langchain-community)\n",
            "  Downloading marshmallow-3.25.1-py3-none-any.whl.metadata (7.3 kB)\n",
            "Collecting typing-inspect<1,>=0.4.0 (from dataclasses-json<0.7,>=0.5.7->langchain-community)\n",
            "  Downloading typing_inspect-0.9.0-py3-none-any.whl.metadata (1.5 kB)\n",
            "Requirement already satisfied: langchain-text-splitters<0.4.0,>=0.3.3 in /usr/local/lib/python3.10/dist-packages (from langchain<0.4.0,>=0.3.14->langchain-community) (0.3.5)\n",
            "Requirement already satisfied: pydantic<3.0.0,>=2.7.4 in /usr/local/lib/python3.10/dist-packages (from langchain<0.4.0,>=0.3.14->langchain-community) (2.10.4)\n",
            "Requirement already satisfied: jsonpatch<2.0,>=1.33 in /usr/local/lib/python3.10/dist-packages (from langchain-core<0.4.0,>=0.3.29->langchain-community) (1.33)\n",
            "Requirement already satisfied: packaging<25,>=23.2 in /usr/local/lib/python3.10/dist-packages (from langchain-core<0.4.0,>=0.3.29->langchain-community) (24.2)\n",
            "Requirement already satisfied: typing-extensions>=4.7 in /usr/local/lib/python3.10/dist-packages (from langchain-core<0.4.0,>=0.3.29->langchain-community) (4.12.2)\n",
            "Requirement already satisfied: httpx<1,>=0.23.0 in /usr/local/lib/python3.10/dist-packages (from langsmith<0.3,>=0.1.125->langchain-community) (0.28.1)\n",
            "Requirement already satisfied: orjson<4.0.0,>=3.9.14 in /usr/local/lib/python3.10/dist-packages (from langsmith<0.3,>=0.1.125->langchain-community) (3.10.13)\n",
            "Requirement already satisfied: requests-toolbelt<2.0.0,>=1.0.0 in /usr/local/lib/python3.10/dist-packages (from langsmith<0.3,>=0.1.125->langchain-community) (1.0.0)\n",
            "Collecting python-dotenv>=0.21.0 (from pydantic-settings<3.0.0,>=2.4.0->langchain-community)\n",
            "  Downloading python_dotenv-1.0.1-py3-none-any.whl.metadata (23 kB)\n",
            "Requirement already satisfied: charset-normalizer<4,>=2 in /usr/local/lib/python3.10/dist-packages (from requests<3,>=2->langchain-community) (3.4.1)\n",
            "Requirement already satisfied: idna<4,>=2.5 in /usr/local/lib/python3.10/dist-packages (from requests<3,>=2->langchain-community) (3.10)\n",
            "Requirement already satisfied: urllib3<3,>=1.21.1 in /usr/local/lib/python3.10/dist-packages (from requests<3,>=2->langchain-community) (2.3.0)\n",
            "Requirement already satisfied: certifi>=2017.4.17 in /usr/local/lib/python3.10/dist-packages (from requests<3,>=2->langchain-community) (2024.12.14)\n",
            "Requirement already satisfied: greenlet!=0.4.17 in /usr/local/lib/python3.10/dist-packages (from SQLAlchemy<3,>=1.4->langchain-community) (3.1.1)\n",
            "Requirement already satisfied: anyio in /usr/local/lib/python3.10/dist-packages (from httpx<1,>=0.23.0->langsmith<0.3,>=0.1.125->langchain-community) (3.7.1)\n",
            "Requirement already satisfied: httpcore==1.* in /usr/local/lib/python3.10/dist-packages (from httpx<1,>=0.23.0->langsmith<0.3,>=0.1.125->langchain-community) (1.0.7)\n",
            "Requirement already satisfied: h11<0.15,>=0.13 in /usr/local/lib/python3.10/dist-packages (from httpcore==1.*->httpx<1,>=0.23.0->langsmith<0.3,>=0.1.125->langchain-community) (0.14.0)\n",
            "Requirement already satisfied: jsonpointer>=1.9 in /usr/local/lib/python3.10/dist-packages (from jsonpatch<2.0,>=1.33->langchain-core<0.4.0,>=0.3.29->langchain-community) (3.0.0)\n",
            "Requirement already satisfied: annotated-types>=0.6.0 in /usr/local/lib/python3.10/dist-packages (from pydantic<3.0.0,>=2.7.4->langchain<0.4.0,>=0.3.14->langchain-community) (0.7.0)\n",
            "Requirement already satisfied: pydantic-core==2.27.2 in /usr/local/lib/python3.10/dist-packages (from pydantic<3.0.0,>=2.7.4->langchain<0.4.0,>=0.3.14->langchain-community) (2.27.2)\n",
            "Collecting mypy-extensions>=0.3.0 (from typing-inspect<1,>=0.4.0->dataclasses-json<0.7,>=0.5.7->langchain-community)\n",
            "  Downloading mypy_extensions-1.0.0-py3-none-any.whl.metadata (1.1 kB)\n",
            "Requirement already satisfied: sniffio>=1.1 in /usr/local/lib/python3.10/dist-packages (from anyio->httpx<1,>=0.23.0->langsmith<0.3,>=0.1.125->langchain-community) (1.3.1)\n",
            "Requirement already satisfied: exceptiongroup in /usr/local/lib/python3.10/dist-packages (from anyio->httpx<1,>=0.23.0->langsmith<0.3,>=0.1.125->langchain-community) (1.2.2)\n",
            "Downloading langchain_community-0.3.14-py3-none-any.whl (2.5 MB)\n",
            "\u001b[2K   \u001b[90m━━━━━━━━━━━━━━━━━━━━━━━━━━━━━━━━━━━━━━━━\u001b[0m \u001b[32m2.5/2.5 MB\u001b[0m \u001b[31m31.8 MB/s\u001b[0m eta \u001b[36m0:00:00\u001b[0m\n",
            "\u001b[?25hDownloading dataclasses_json-0.6.7-py3-none-any.whl (28 kB)\n",
            "Downloading httpx_sse-0.4.0-py3-none-any.whl (7.8 kB)\n",
            "Downloading pydantic_settings-2.7.1-py3-none-any.whl (29 kB)\n",
            "Downloading marshmallow-3.25.1-py3-none-any.whl (49 kB)\n",
            "\u001b[2K   \u001b[90m━━━━━━━━━━━━━━━━━━━━━━━━━━━━━━━━━━━━━━━━\u001b[0m \u001b[32m49.6/49.6 kB\u001b[0m \u001b[31m3.1 MB/s\u001b[0m eta \u001b[36m0:00:00\u001b[0m\n",
            "\u001b[?25hDownloading python_dotenv-1.0.1-py3-none-any.whl (19 kB)\n",
            "Downloading typing_inspect-0.9.0-py3-none-any.whl (8.8 kB)\n",
            "Downloading mypy_extensions-1.0.0-py3-none-any.whl (4.7 kB)\n",
            "Installing collected packages: python-dotenv, mypy-extensions, marshmallow, httpx-sse, typing-inspect, pydantic-settings, dataclasses-json, langchain-community\n",
            "Successfully installed dataclasses-json-0.6.7 httpx-sse-0.4.0 langchain-community-0.3.14 marshmallow-3.25.1 mypy-extensions-1.0.0 pydantic-settings-2.7.1 python-dotenv-1.0.1 typing-inspect-0.9.0\n",
            "Requirement already satisfied: langchain in /usr/local/lib/python3.10/dist-packages (0.3.14)\n",
            "Requirement already satisfied: PyYAML>=5.3 in /usr/local/lib/python3.10/dist-packages (from langchain) (6.0.2)\n",
            "Requirement already satisfied: SQLAlchemy<3,>=1.4 in /usr/local/lib/python3.10/dist-packages (from langchain) (2.0.36)\n",
            "Requirement already satisfied: aiohttp<4.0.0,>=3.8.3 in /usr/local/lib/python3.10/dist-packages (from langchain) (3.11.11)\n",
            "Requirement already satisfied: async-timeout<5.0.0,>=4.0.0 in /usr/local/lib/python3.10/dist-packages (from langchain) (4.0.3)\n",
            "Requirement already satisfied: langchain-core<0.4.0,>=0.3.29 in /usr/local/lib/python3.10/dist-packages (from langchain) (0.3.29)\n",
            "Requirement already satisfied: langchain-text-splitters<0.4.0,>=0.3.3 in /usr/local/lib/python3.10/dist-packages (from langchain) (0.3.5)\n",
            "Requirement already satisfied: langsmith<0.3,>=0.1.17 in /usr/local/lib/python3.10/dist-packages (from langchain) (0.2.10)\n",
            "Requirement already satisfied: numpy<2,>=1.22.4 in /usr/local/lib/python3.10/dist-packages (from langchain) (1.26.4)\n",
            "Requirement already satisfied: pydantic<3.0.0,>=2.7.4 in /usr/local/lib/python3.10/dist-packages (from langchain) (2.10.4)\n",
            "Requirement already satisfied: requests<3,>=2 in /usr/local/lib/python3.10/dist-packages (from langchain) (2.32.3)\n",
            "Requirement already satisfied: tenacity!=8.4.0,<10,>=8.1.0 in /usr/local/lib/python3.10/dist-packages (from langchain) (9.0.0)\n",
            "Requirement already satisfied: aiohappyeyeballs>=2.3.0 in /usr/local/lib/python3.10/dist-packages (from aiohttp<4.0.0,>=3.8.3->langchain) (2.4.4)\n",
            "Requirement already satisfied: aiosignal>=1.1.2 in /usr/local/lib/python3.10/dist-packages (from aiohttp<4.0.0,>=3.8.3->langchain) (1.3.2)\n",
            "Requirement already satisfied: attrs>=17.3.0 in /usr/local/lib/python3.10/dist-packages (from aiohttp<4.0.0,>=3.8.3->langchain) (24.3.0)\n",
            "Requirement already satisfied: frozenlist>=1.1.1 in /usr/local/lib/python3.10/dist-packages (from aiohttp<4.0.0,>=3.8.3->langchain) (1.5.0)\n",
            "Requirement already satisfied: multidict<7.0,>=4.5 in /usr/local/lib/python3.10/dist-packages (from aiohttp<4.0.0,>=3.8.3->langchain) (6.1.0)\n",
            "Requirement already satisfied: propcache>=0.2.0 in /usr/local/lib/python3.10/dist-packages (from aiohttp<4.0.0,>=3.8.3->langchain) (0.2.1)\n",
            "Requirement already satisfied: yarl<2.0,>=1.17.0 in /usr/local/lib/python3.10/dist-packages (from aiohttp<4.0.0,>=3.8.3->langchain) (1.18.3)\n",
            "Requirement already satisfied: jsonpatch<2.0,>=1.33 in /usr/local/lib/python3.10/dist-packages (from langchain-core<0.4.0,>=0.3.29->langchain) (1.33)\n",
            "Requirement already satisfied: packaging<25,>=23.2 in /usr/local/lib/python3.10/dist-packages (from langchain-core<0.4.0,>=0.3.29->langchain) (24.2)\n",
            "Requirement already satisfied: typing-extensions>=4.7 in /usr/local/lib/python3.10/dist-packages (from langchain-core<0.4.0,>=0.3.29->langchain) (4.12.2)\n",
            "Requirement already satisfied: httpx<1,>=0.23.0 in /usr/local/lib/python3.10/dist-packages (from langsmith<0.3,>=0.1.17->langchain) (0.28.1)\n",
            "Requirement already satisfied: orjson<4.0.0,>=3.9.14 in /usr/local/lib/python3.10/dist-packages (from langsmith<0.3,>=0.1.17->langchain) (3.10.13)\n",
            "Requirement already satisfied: requests-toolbelt<2.0.0,>=1.0.0 in /usr/local/lib/python3.10/dist-packages (from langsmith<0.3,>=0.1.17->langchain) (1.0.0)\n",
            "Requirement already satisfied: annotated-types>=0.6.0 in /usr/local/lib/python3.10/dist-packages (from pydantic<3.0.0,>=2.7.4->langchain) (0.7.0)\n",
            "Requirement already satisfied: pydantic-core==2.27.2 in /usr/local/lib/python3.10/dist-packages (from pydantic<3.0.0,>=2.7.4->langchain) (2.27.2)\n",
            "Requirement already satisfied: charset-normalizer<4,>=2 in /usr/local/lib/python3.10/dist-packages (from requests<3,>=2->langchain) (3.4.1)\n",
            "Requirement already satisfied: idna<4,>=2.5 in /usr/local/lib/python3.10/dist-packages (from requests<3,>=2->langchain) (3.10)\n",
            "Requirement already satisfied: urllib3<3,>=1.21.1 in /usr/local/lib/python3.10/dist-packages (from requests<3,>=2->langchain) (2.3.0)\n",
            "Requirement already satisfied: certifi>=2017.4.17 in /usr/local/lib/python3.10/dist-packages (from requests<3,>=2->langchain) (2024.12.14)\n",
            "Requirement already satisfied: greenlet!=0.4.17 in /usr/local/lib/python3.10/dist-packages (from SQLAlchemy<3,>=1.4->langchain) (3.1.1)\n",
            "Requirement already satisfied: anyio in /usr/local/lib/python3.10/dist-packages (from httpx<1,>=0.23.0->langsmith<0.3,>=0.1.17->langchain) (3.7.1)\n",
            "Requirement already satisfied: httpcore==1.* in /usr/local/lib/python3.10/dist-packages (from httpx<1,>=0.23.0->langsmith<0.3,>=0.1.17->langchain) (1.0.7)\n",
            "Requirement already satisfied: h11<0.15,>=0.13 in /usr/local/lib/python3.10/dist-packages (from httpcore==1.*->httpx<1,>=0.23.0->langsmith<0.3,>=0.1.17->langchain) (0.14.0)\n",
            "Requirement already satisfied: jsonpointer>=1.9 in /usr/local/lib/python3.10/dist-packages (from jsonpatch<2.0,>=1.33->langchain-core<0.4.0,>=0.3.29->langchain) (3.0.0)\n",
            "Requirement already satisfied: sniffio>=1.1 in /usr/local/lib/python3.10/dist-packages (from anyio->httpx<1,>=0.23.0->langsmith<0.3,>=0.1.17->langchain) (1.3.1)\n",
            "Requirement already satisfied: exceptiongroup in /usr/local/lib/python3.10/dist-packages (from anyio->httpx<1,>=0.23.0->langsmith<0.3,>=0.1.17->langchain) (1.2.2)\n"
          ]
        }
      ]
    },
    {
      "cell_type": "code",
      "source": [
        "from langgraph.graph import StateGraph\n",
        "from langchain.chat_models import ChatOpenAI"
      ],
      "metadata": {
        "id": "OUYNXLL3zXUR"
      },
      "execution_count": 3,
      "outputs": []
    },
    {
      "cell_type": "code",
      "source": [
        "import os\n",
        "\n",
        "openai_api_key = os.environ.get(\"OPENAI_API_KEY\")\n",
        "if not openai_api_key:\n",
        "    raise ValueError(\"The environment variable OPENAI_API_KEY is not set. Please make sure to set it.\")\n",
        "llm = ChatOpenAI(api_key=openai_api_key, model=\"gpt-4o-mini\")"
      ],
      "metadata": {
        "colab": {
          "base_uri": "https://localhost:8080/"
        },
        "id": "2NeZ4nV-zZ6C",
        "outputId": "e84c0043-c467-457f-9159-db9e45b8e68b"
      },
      "execution_count": 4,
      "outputs": [
        {
          "output_type": "stream",
          "name": "stderr",
          "text": [
            "<ipython-input-4-6dd41bacf947>:6: LangChainDeprecationWarning: The class `ChatOpenAI` was deprecated in LangChain 0.0.10 and will be removed in 1.0. An updated version of the class exists in the :class:`~langchain-openai package and should be used instead. To use it run `pip install -U :class:`~langchain-openai` and import as `from :class:`~langchain_openai import ChatOpenAI``.\n",
            "  llm = ChatOpenAI(api_key=openai_api_key, model=\"gpt-4o-mini\")\n"
          ]
        }
      ]
    },
    {
      "cell_type": "code",
      "source": [
        "from langgraph.graph import StateGraph, END\n",
        "from typing import TypedDict, Dict\n",
        "\n",
        "# Define the state object that tracks the workflow\n",
        "class InvoiceState(TypedDict):\n",
        "    invoice_id: str\n",
        "    po_number: str\n",
        "    is_paid: bool\n",
        "    payment_method: str\n",
        "    payment_date: str\n",
        "    po_type: str\n",
        "    exception_status: str\n",
        "    action_taken: str\n",
        "    transmission_status: str\n",
        "\n",
        "# Initialize the StateGraph\n",
        "builder = StateGraph(InvoiceState)\n",
        "\n",
        "# Define nodes for each step in the workflow"
      ],
      "metadata": {
        "id": "_8h3v5TFzsZi"
      },
      "execution_count": 121,
      "outputs": []
    },
    {
      "cell_type": "code",
      "source": [
        "# Define the Imagenow Check Node\n",
        "import pandas as pd\n",
        "def imagenow_check(state: InvoiceState):\n",
        "    print(\"\\n=== Imagenow Check ===\")\n",
        "\n",
        "    # Load the Imagenow dataset\n",
        "    imagenow_file_path = \"/content/image_now_modified.xlsx\"  # Replace with actual file path\n",
        "    imagenow_df = pd.read_excel(imagenow_file_path)\n",
        "\n",
        "    # Lookup the payment status for the given invoice number\n",
        "    invoice_row = imagenow_df[imagenow_df[\"Invoice Number\"] == state[\"invoice_id\"]]\n",
        "\n",
        "    if not invoice_row.empty:\n",
        "        # Extract payment status\n",
        "        state['is_paid'] = invoice_row.iloc[0][\"Status\"] == \"Paid\"\n",
        "        print(f\"Invoice {state['invoice_id']} payment status: {'Paid' if state['is_paid'] else 'Not Paid'}\")\n",
        "    else:\n",
        "        # Default to not paid if the invoice is not found\n",
        "        state['is_paid'] = False\n",
        "        print(f\"Invoice {state['invoice_id']} not found in Imagenow dataset. Marked as Not Paid.\")\n",
        "\n",
        "    return state\n",
        "\n"
      ],
      "metadata": {
        "id": "O4YNgUoszwlJ"
      },
      "execution_count": 122,
      "outputs": []
    },
    {
      "cell_type": "code",
      "source": [
        "state = {\n",
        "    \"invoice_id\": \"INV-0010\",\n",
        "    \"po_number\": None,\n",
        "    \"is_paid\": None,\n",
        "    \"po_length\": None,\n",
        "    \"payment_method\": None,\n",
        "    \"payment_date\": None,\n",
        "    \"exception_status\": None,\n",
        "    \"transmission_status\": None\n",
        "}\n",
        "\n",
        "# Execute the node\n",
        "imagenow_check(state)\n",
        "\n",
        "# Output the updated state\n",
        "print(\"\\nUpdated State:\", state)\n"
      ],
      "metadata": {
        "colab": {
          "base_uri": "https://localhost:8080/"
        },
        "id": "Z_X-Cyav1iti",
        "outputId": "2e3ca84b-c5b4-4b50-f886-3379588f7491"
      },
      "execution_count": 62,
      "outputs": [
        {
          "output_type": "stream",
          "name": "stdout",
          "text": [
            "\n",
            "=== Imagenow Check ===\n",
            "Invoice INV-0010 payment status: Paid\n",
            "\n",
            "Updated State: {'invoice_id': 'INV-0010', 'po_number': None, 'is_paid': True, 'po_length': None, 'payment_method': None, 'payment_date': None, 'exception_status': None, 'transmission_status': None}\n"
          ]
        }
      ]
    },
    {
      "cell_type": "code",
      "source": [
        "# Define the Lawson Payment Check Node\n",
        "def lawson_payment_check(state: InvoiceState):\n",
        "    print(\"\\n=== Lawson Payment Check ===\")\n",
        "\n",
        "    # Load the Lawson dataset\n",
        "    lawson_file_path = \"/content/lawson_modified.xlsx\"  # Replace with actual file path\n",
        "    lawson_df = pd.read_excel(lawson_file_path)\n",
        "\n",
        "    # Lookup payment details for the given invoice ID\n",
        "    invoice_row = lawson_df[lawson_df[\"Invoice ID\"] == state[\"invoice_id\"]]\n",
        "\n",
        "    if not invoice_row.empty:\n",
        "        # Extract payment details and exception status\n",
        "        state['payment_method'] = invoice_row.iloc[0][\"Payment Method\"]\n",
        "        state['payment_date'] = invoice_row.iloc[0][\"Payment Date\"]\n",
        "        state['exception_status'] = invoice_row.iloc[0][\"Exception Status\"]\n",
        "\n",
        "        # Print details for debugging\n",
        "        print(f\"Payment Method: {state['payment_method']}\")\n",
        "        print(f\"Payment Date: {state['payment_date']}\")\n",
        "        print(f\"Exception Status: {state['exception_status']}\")\n",
        "    else:\n",
        "        # Default to unknown if the invoice ID is not found\n",
        "        state['payment_method'] = None\n",
        "        state['payment_date'] = None\n",
        "        state['exception_status'] = None\n",
        "        print(f\"Invoice {state['invoice_id']} not found in Lawson dataset.\")\n",
        "\n",
        "    return state\n"
      ],
      "metadata": {
        "id": "i5cqnvqB1nCV"
      },
      "execution_count": 123,
      "outputs": []
    },
    {
      "cell_type": "code",
      "source": [
        "state = {\n",
        "    \"invoice_id\": \"INV-0002\",  # Change to test other invoice numbers\n",
        "    \"po_number\": None,\n",
        "    \"is_paid\": None,\n",
        "    \"po_length\": None,\n",
        "    \"payment_method\": None,\n",
        "    \"payment_date\": None,\n",
        "    \"exception_status\": None,\n",
        "    \"transmission_status\": None\n",
        "}\n",
        "\n",
        "# Execute the node\n",
        "lawson_payment_check(state)\n",
        "\n",
        "# Output the updated state\n",
        "print(\"\\nUpdated State:\", state)\n"
      ],
      "metadata": {
        "colab": {
          "base_uri": "https://localhost:8080/"
        },
        "id": "Y6L6IEaA8_N2",
        "outputId": "35903eef-8559-4317-f715-707c1a04a2b9"
      },
      "execution_count": 64,
      "outputs": [
        {
          "output_type": "stream",
          "name": "stdout",
          "text": [
            "\n",
            "=== Lawson Payment Check ===\n",
            "Payment Method: Check\n",
            "Payment Date: 2019-05-01 00:00:00\n",
            "Exception Status: AP90\n",
            "\n",
            "Updated State: {'invoice_id': 'INV-0002', 'po_number': None, 'is_paid': None, 'po_length': None, 'payment_method': 'Check', 'payment_date': Timestamp('2019-05-01 00:00:00'), 'exception_status': 'AP90', 'transmission_status': None}\n"
          ]
        }
      ]
    },
    {
      "cell_type": "code",
      "source": [
        "def po_type_check(state: InvoiceState):\n",
        "    print(\"Checking PO type (11-digit or 10-digit)...\")\n",
        "    if len(state['po_number']) == 11:\n",
        "        state['po_type'] = \"11-digit\"\n",
        "    elif len(state['po_number']) == 10:\n",
        "        state['po_type'] = \"10-digit\"\n",
        "    else:\n",
        "        state['po_type'] = \"Unknown\"\n",
        "    print(f\"PO type determined: {state['po_type']}\")\n",
        "    return state\n"
      ],
      "metadata": {
        "id": "vmbwvgUR9Bu3"
      },
      "execution_count": 124,
      "outputs": []
    },
    {
      "cell_type": "code",
      "source": [
        "state = {\n",
        "    \"po_number\": \"12345678901\",  # Change to test other PO numbers\n",
        "    \"po_type\": None,\n",
        "}\n",
        "\n",
        "# Execute the node\n",
        "po_type_check(state)\n",
        "\n",
        "# Output the updated state\n",
        "print(\"\\nUpdated State:\", state)\n"
      ],
      "metadata": {
        "colab": {
          "base_uri": "https://localhost:8080/"
        },
        "id": "oTKmwr0QOnix",
        "outputId": "471f4bb2-47f4-43bb-ddc2-7a1afa5744a7"
      },
      "execution_count": 66,
      "outputs": [
        {
          "output_type": "stream",
          "name": "stdout",
          "text": [
            "Checking PO type (11-digit or 10-digit)...\n",
            "PO type determined: 11-digit\n",
            "\n",
            "Updated State: {'po_number': '12345678901', 'po_type': '11-digit'}\n"
          ]
        }
      ]
    },
    {
      "cell_type": "code",
      "source": [
        "def email_response_node(state: InvoiceState):\n",
        "    print(\"\\n=== Email Response Node ===\")\n",
        "\n",
        "    if state['is_paid']:  # Case: Invoice is paid\n",
        "        print(\"Drafting email to vendor using LLM for a paid invoice...\")\n",
        "\n",
        "        # Handle missing payment method or date\n",
        "        payment_method = state['payment_method'] or \"Unavailable\"\n",
        "        payment_date = state['payment_date'] or \"Unavailable\"\n",
        "\n",
        "        # LLM prompt for email drafting\n",
        "        prompt = (\n",
        "            f\"Draft a professional email to inform the vendor that the payment for invoice {state['invoice_id']} \"\n",
        "            f\"has been processed. Include the payment method ({payment_method}) and payment date ({payment_date}).\"\n",
        "        )\n",
        "\n",
        "        # Use LLM to generate the email content\n",
        "        state['email_draft'] = llm.invoke(prompt).content\n",
        "        print(f\"Email Draft: {state['email_draft']}\")\n",
        "\n",
        "    elif not state['is_paid'] and state['payment_method'] and state['payment_date']:  # Case: Not paid, but details available\n",
        "        print(\"Drafting email to vendor using LLM for pending payment with available details...\")\n",
        "\n",
        "        # Handle missing payment method or date\n",
        "        payment_method = state['payment_method']\n",
        "        payment_date = state['payment_date']\n",
        "\n",
        "        # LLM prompt for email drafting\n",
        "        prompt = (\n",
        "            f\"Draft a professional email to inform the vendor about the payment details for invoice {state['invoice_id']}. \"\n",
        "            f\"Although the payment is pending, the system shows the following details: \"\n",
        "            f\"Payment method: {payment_method}, Payment date: {payment_date}. \"\n",
        "            f\"Request further confirmation if necessary.\"\n",
        "        )\n",
        "\n",
        "        # Use LLM to generate the email content\n",
        "        state['email_draft'] = llm.invoke(prompt).content\n",
        "        print(f\"Email Draft: {state['email_draft']}\")\n",
        "    else:\n",
        "        print(\"Invoice is not paid and no payment details are available. No email drafted.\")\n",
        "\n",
        "    return state\n",
        "\n"
      ],
      "metadata": {
        "id": "g3FVVkROOqy3"
      },
      "execution_count": 125,
      "outputs": []
    },
    {
      "cell_type": "code",
      "source": [
        "# Define the Email Response Node\n",
        "def exception_response(state: InvoiceState):\n",
        "    print(\"\\n=== Exception Response Node ===\")\n",
        "\n",
        "    exception_emails = {\n",
        "        \"MA126\": \"finance_team@example.com\",\n",
        "        \"MA54\": \"accounting_team@example.com\",\n",
        "        \"P020\": \"compliance_team@example.com\",\n",
        "        \"AP90\": \"vendor_relations@example.com\"\n",
        "    }\n",
        "\n",
        "    if state['exception_status'] in exception_emails:\n",
        "        recipient = exception_emails[state['exception_status']]\n",
        "        print(f\"Drafting email to {recipient} based on exception status: {state['exception_status']}\")\n",
        "\n",
        "        # Draft the email using LLM\n",
        "        prompt = (\n",
        "            f\"Draft a professional email to {recipient} explaining the issue with invoice {state['po_number']}. \"\n",
        "            f\"The exception status is {state['exception_status']}. Provide clear details about the issue and \"\n",
        "            f\"request their assistance in resolving it.\"\n",
        "        )\n",
        "        state['email_draft_exception'] = llm.invoke(prompt).content\n",
        "        print(f\"Email Draft to {recipient}: {state['email_draft_exception']}\")\n",
        "    else:\n",
        "        print(f\"No email recipient found for exception status: {state['exception_status']}.\")\n",
        "\n",
        "    return state"
      ],
      "metadata": {
        "id": "6QTM3G_7PhkA"
      },
      "execution_count": 126,
      "outputs": []
    },
    {
      "cell_type": "code",
      "source": [
        "def ivalua_check(state: InvoiceState):\n",
        "    print(\"\\n=== Ivalua Check ===\")\n",
        "\n",
        "    # Load the Ivalua dataset\n",
        "    ivalua_file_path = \"/content/ivalua_dataset.xlsx\"  # Replace with the actual file path\n",
        "    ivalua_df = pd.read_excel(ivalua_file_path)\n",
        "\n",
        "    # Lookup the transmission and exception status for the given invoice\n",
        "    invoice_row = ivalua_df[ivalua_df[\"Invoice Number\"] == state[\"invoice_id\"]]\n",
        "\n",
        "    if not invoice_row.empty:\n",
        "        # Extract transmission status and exception status\n",
        "        state['transmission_status'] = invoice_row.iloc[0][\"Transmission Status\"]\n",
        "        state['exception_status'] = invoice_row.iloc[0][\"Exception status\"]\n",
        "\n",
        "        # Print details for debugging\n",
        "        print(f\"Transmission Status: {state['transmission_status']}\")\n",
        "        if pd.notna(state['exception_status']):\n",
        "            print(f\"Exception Status: {state['exception_status']}\")\n",
        "        else:\n",
        "            print(\"No exception status found.\")\n",
        "    else:\n",
        "        # Default values if invoice not found\n",
        "        state['transmission_status'] = \"Unknown\"\n",
        "        state['exception_status'] = None\n",
        "        print(f\"Invoice {state['invoice_id']} not found in Ivalua dataset.\")\n",
        "\n",
        "    return state\n"
      ],
      "metadata": {
        "id": "9H0m7VSiQYL1"
      },
      "execution_count": 127,
      "outputs": []
    },
    {
      "cell_type": "code",
      "source": [
        "state = {\n",
        "    \"invoice_id\": \"INV-0003\",  # Change to test other invoice numbers\n",
        "    \"po_number\": None,\n",
        "    \"transmission_status\": None,\n",
        "    \"exception_status\": None\n",
        "}\n",
        "\n",
        "# Execute the Ivalua check node\n",
        "ivalua_check(state)\n",
        "\n",
        "# Output the updated state\n",
        "print(\"\\nUpdated State:\", state)\n"
      ],
      "metadata": {
        "colab": {
          "base_uri": "https://localhost:8080/"
        },
        "id": "8cyaIWhLBY1-",
        "outputId": "e92c2411-a11b-417e-816c-47a12e115435"
      },
      "execution_count": 70,
      "outputs": [
        {
          "output_type": "stream",
          "name": "stdout",
          "text": [
            "\n",
            "=== Ivalua Check ===\n",
            "Transmission Status: Not Transmitted\n",
            "Exception Status: MA126\n",
            "\n",
            "Updated State: {'invoice_id': 'INV-0003', 'po_number': None, 'transmission_status': 'Not Transmitted', 'exception_status': 'MA126'}\n"
          ]
        }
      ]
    },
    {
      "cell_type": "code",
      "source": [
        "def update_notes(state: InvoiceState):\n",
        "    print(\"\\n=== Update Notes ===\")\n",
        "    # Simulate updating notes in Imagenow/Ivalua\n",
        "    state['action_taken'] += \" | Notes updated in Imagenow/Ivalua\"\n",
        "    print(state['action_taken'])\n",
        "    return state"
      ],
      "metadata": {
        "id": "pT-GV0_XBcR-"
      },
      "execution_count": 128,
      "outputs": []
    },
    {
      "cell_type": "code",
      "source": [
        "def check_payment_status(state: InvoiceState):\n",
        "    print(\"\\n=== Conditional Check: Payment Status ===\")\n",
        "    if state['is_paid']:\n",
        "        return \"Paid\"\n",
        "    else:\n",
        "        return \"NotPaid\""
      ],
      "metadata": {
        "id": "851PPARUB9Ro"
      },
      "execution_count": 129,
      "outputs": []
    },
    {
      "cell_type": "code",
      "source": [
        "def check_po_length(state:InvoiceState):\n",
        "  print(\"\\n=== Conditional Check: PO Length ===\")\n",
        "  if state['po_type'] == \"11-digit\":\n",
        "    return \"11 Digit PO\"\n",
        "  else:\n",
        "    return \"10 Digit PO\""
      ],
      "metadata": {
        "id": "LkkYFrOaITqC"
      },
      "execution_count": 130,
      "outputs": []
    },
    {
      "cell_type": "code",
      "source": [
        "def ivalua_status_check(state: InvoiceState):\n",
        "    print(\"\\n=== Conditional Check: Ivalua Exception Handling ===\")\n",
        "    if state['transmission_status'] == \"Transmitted\":\n",
        "        return \"Transmitted\"\n",
        "    else:\n",
        "        return \"Not Transmitted\""
      ],
      "metadata": {
        "id": "maj060yHIYvN"
      },
      "execution_count": 131,
      "outputs": []
    },
    {
      "cell_type": "code",
      "source": [
        "#def check_exception_status(state: InvoiceState):\n",
        "   # print(\"\\n=== Conditional Check: Exception Status ===\")\n",
        "   # if state['exception_status'] == \"AP90\":\n",
        "     #   print(\"Routing to 'email_response_node.\")\n",
        "     #   return \"email_response_node\"\n",
        "    #else:\n",
        "      # print(\"Routing to 'exception_response' node.\")\n",
        "       # return \"exception_response\"\n",
        "def check_exception_status(state: InvoiceState):\n",
        "    print(\"\\n=== Conditional Check: Exception Status ===\")\n",
        "\n",
        "    # Check for AP90 or missing exception status (NaN)\n",
        "    if state['exception_status'] == \"AP90\" or pd.isna(state['exception_status']):\n",
        "        print(\"Routing to 'email_response_node'.\")\n",
        "        return \"AP90/NAN\"\n",
        "    else:\n",
        "        print(\"Routing to 'exception_response' node.\")\n",
        "        return \"MA126/MA54/PO20\"\n"
      ],
      "metadata": {
        "id": "6Lkh6BRbI5RG"
      },
      "execution_count": 132,
      "outputs": []
    },
    {
      "cell_type": "code",
      "source": [
        "# Add nodes to the graph\n",
        "builder.add_node(\"imagenow_check\", imagenow_check)\n",
        "builder.add_node(\"lawson_payment_check\", lawson_payment_check)\n",
        "builder.add_node(\"email_response_node\", email_response_node)\n",
        "builder.add_node(\"po_type_check\", po_type_check)\n",
        "builder.add_node(\"ivalua_check\", ivalua_check)\n",
        "builder.add_node(\"update_notes\", update_notes)\n",
        "builder.add_node(\"exception_response\", exception_response)\n",
        "\n",
        "\n"
      ],
      "metadata": {
        "colab": {
          "base_uri": "https://localhost:8080/"
        },
        "id": "-yURXz5CJOPb",
        "outputId": "8b111140-3d02-4558-d820-131f443728a6"
      },
      "execution_count": 133,
      "outputs": [
        {
          "output_type": "execute_result",
          "data": {
            "text/plain": [
              "<langgraph.graph.state.StateGraph at 0x78092ff7a290>"
            ]
          },
          "metadata": {},
          "execution_count": 133
        }
      ]
    },
    {
      "cell_type": "code",
      "source": [
        "# Add conditional edges\n",
        "builder.add_conditional_edges(\"imagenow_check\", check_payment_status, {\n",
        "    \"Paid\": \"lawson_payment_check\",\n",
        "    \"NotPaid\": \"po_type_check\",\n",
        "\n",
        "})\n",
        "\n",
        "builder.add_conditional_edges(\"po_type_check\", check_po_length, {\n",
        "    \"11 Digit PO\": \"ivalua_check\",\n",
        "    \"10 Digit PO\": \"lawson_payment_check\",\n",
        "})\n",
        "\n",
        "\n",
        "\n",
        "builder.add_conditional_edges(\n",
        "    \"lawson_payment_check\",\n",
        "    check_exception_status,\n",
        "    {\n",
        "        \"AP90/NAN\": \"email_response_node\",\n",
        "        \"MA126/MA54/PO20\": \"exception_response\"\n",
        "    }\n",
        ")\n",
        "builder.add_conditional_edges(\"ivalua_check\", ivalua_status_check, {\n",
        "    \"Transmitted\": \"lawson_payment_check\",\n",
        "    \"Not Transmitted\": \"exception_response\",\n",
        "})\n",
        "\n",
        "# Add normal edges\n",
        "\n",
        "\n",
        "builder.add_edge(\"email_response_node\", \"update_notes\")\n",
        "\n",
        "builder.add_edge(\"exception_response\", \"update_notes\")\n",
        "\n",
        "builder.add_edge(\"exception_response\", \"update_notes\")\n",
        "\n"
      ],
      "metadata": {
        "colab": {
          "base_uri": "https://localhost:8080/"
        },
        "id": "Y-sIKuD5KqDp",
        "outputId": "de8538f0-1bb1-454c-d733-17b1f1775c1f"
      },
      "execution_count": 134,
      "outputs": [
        {
          "output_type": "execute_result",
          "data": {
            "text/plain": [
              "<langgraph.graph.state.StateGraph at 0x78092ff7a290>"
            ]
          },
          "metadata": {},
          "execution_count": 134
        }
      ]
    },
    {
      "cell_type": "code",
      "source": [
        "# Set the entry point\n",
        "builder.set_entry_point(\"imagenow_check\")\n",
        "\n",
        "# Compile the graph\n",
        "graph = builder.compile()"
      ],
      "metadata": {
        "id": "2uu3fIXjM0jF"
      },
      "execution_count": 135,
      "outputs": []
    },
    {
      "cell_type": "code",
      "source": [
        "!apt-get install graphviz graphviz-dev # Install Graphviz using apt\n",
        "!pip install pygraphviz"
      ],
      "metadata": {
        "colab": {
          "base_uri": "https://localhost:8080/"
        },
        "id": "XnvnHHExM240",
        "outputId": "649cb5f8-38e1-4f2f-8fb3-ac58f5a7586c"
      },
      "execution_count": 28,
      "outputs": [
        {
          "output_type": "stream",
          "name": "stdout",
          "text": [
            "Reading package lists... Done\n",
            "Building dependency tree... Done\n",
            "Reading state information... Done\n",
            "Note, selecting 'libgraphviz-dev' instead of 'graphviz-dev'\n",
            "graphviz is already the newest version (2.42.2-6ubuntu0.1).\n",
            "The following additional packages will be installed:\n",
            "  libgail-common libgail18 libgtk2.0-0 libgtk2.0-bin libgtk2.0-common libgvc6-plugins-gtk\n",
            "  librsvg2-common libxdot4\n",
            "Suggested packages:\n",
            "  gvfs\n",
            "The following NEW packages will be installed:\n",
            "  libgail-common libgail18 libgraphviz-dev libgtk2.0-0 libgtk2.0-bin libgtk2.0-common\n",
            "  libgvc6-plugins-gtk librsvg2-common libxdot4\n",
            "0 upgraded, 9 newly installed, 0 to remove and 49 not upgraded.\n",
            "Need to get 2,434 kB of archives.\n",
            "After this operation, 7,681 kB of additional disk space will be used.\n",
            "Get:1 http://archive.ubuntu.com/ubuntu jammy-updates/main amd64 libgtk2.0-common all 2.24.33-2ubuntu2.1 [125 kB]\n",
            "Get:2 http://archive.ubuntu.com/ubuntu jammy-updates/main amd64 libgtk2.0-0 amd64 2.24.33-2ubuntu2.1 [2,038 kB]\n",
            "Get:3 http://archive.ubuntu.com/ubuntu jammy-updates/main amd64 libgail18 amd64 2.24.33-2ubuntu2.1 [15.9 kB]\n",
            "Get:4 http://archive.ubuntu.com/ubuntu jammy-updates/main amd64 libgail-common amd64 2.24.33-2ubuntu2.1 [132 kB]\n",
            "Get:5 http://archive.ubuntu.com/ubuntu jammy-updates/universe amd64 libxdot4 amd64 2.42.2-6ubuntu0.1 [16.4 kB]\n",
            "Get:6 http://archive.ubuntu.com/ubuntu jammy-updates/universe amd64 libgvc6-plugins-gtk amd64 2.42.2-6ubuntu0.1 [22.5 kB]\n",
            "Get:7 http://archive.ubuntu.com/ubuntu jammy-updates/universe amd64 libgraphviz-dev amd64 2.42.2-6ubuntu0.1 [58.5 kB]\n",
            "Get:8 http://archive.ubuntu.com/ubuntu jammy-updates/main amd64 libgtk2.0-bin amd64 2.24.33-2ubuntu2.1 [7,936 B]\n",
            "Get:9 http://archive.ubuntu.com/ubuntu jammy-updates/main amd64 librsvg2-common amd64 2.52.5+dfsg-3ubuntu0.2 [17.7 kB]\n",
            "Fetched 2,434 kB in 1s (1,950 kB/s)\n",
            "Selecting previously unselected package libgtk2.0-common.\n",
            "(Reading database ... 123632 files and directories currently installed.)\n",
            "Preparing to unpack .../0-libgtk2.0-common_2.24.33-2ubuntu2.1_all.deb ...\n",
            "Unpacking libgtk2.0-common (2.24.33-2ubuntu2.1) ...\n",
            "Selecting previously unselected package libgtk2.0-0:amd64.\n",
            "Preparing to unpack .../1-libgtk2.0-0_2.24.33-2ubuntu2.1_amd64.deb ...\n",
            "Unpacking libgtk2.0-0:amd64 (2.24.33-2ubuntu2.1) ...\n",
            "Selecting previously unselected package libgail18:amd64.\n",
            "Preparing to unpack .../2-libgail18_2.24.33-2ubuntu2.1_amd64.deb ...\n",
            "Unpacking libgail18:amd64 (2.24.33-2ubuntu2.1) ...\n",
            "Selecting previously unselected package libgail-common:amd64.\n",
            "Preparing to unpack .../3-libgail-common_2.24.33-2ubuntu2.1_amd64.deb ...\n",
            "Unpacking libgail-common:amd64 (2.24.33-2ubuntu2.1) ...\n",
            "Selecting previously unselected package libxdot4:amd64.\n",
            "Preparing to unpack .../4-libxdot4_2.42.2-6ubuntu0.1_amd64.deb ...\n",
            "Unpacking libxdot4:amd64 (2.42.2-6ubuntu0.1) ...\n",
            "Selecting previously unselected package libgvc6-plugins-gtk.\n",
            "Preparing to unpack .../5-libgvc6-plugins-gtk_2.42.2-6ubuntu0.1_amd64.deb ...\n",
            "Unpacking libgvc6-plugins-gtk (2.42.2-6ubuntu0.1) ...\n",
            "Selecting previously unselected package libgraphviz-dev:amd64.\n",
            "Preparing to unpack .../6-libgraphviz-dev_2.42.2-6ubuntu0.1_amd64.deb ...\n",
            "Unpacking libgraphviz-dev:amd64 (2.42.2-6ubuntu0.1) ...\n",
            "Selecting previously unselected package libgtk2.0-bin.\n",
            "Preparing to unpack .../7-libgtk2.0-bin_2.24.33-2ubuntu2.1_amd64.deb ...\n",
            "Unpacking libgtk2.0-bin (2.24.33-2ubuntu2.1) ...\n",
            "Selecting previously unselected package librsvg2-common:amd64.\n",
            "Preparing to unpack .../8-librsvg2-common_2.52.5+dfsg-3ubuntu0.2_amd64.deb ...\n",
            "Unpacking librsvg2-common:amd64 (2.52.5+dfsg-3ubuntu0.2) ...\n",
            "Setting up libxdot4:amd64 (2.42.2-6ubuntu0.1) ...\n",
            "Setting up librsvg2-common:amd64 (2.52.5+dfsg-3ubuntu0.2) ...\n",
            "Setting up libgtk2.0-common (2.24.33-2ubuntu2.1) ...\n",
            "Setting up libgtk2.0-0:amd64 (2.24.33-2ubuntu2.1) ...\n",
            "Setting up libgvc6-plugins-gtk (2.42.2-6ubuntu0.1) ...\n",
            "Setting up libgail18:amd64 (2.24.33-2ubuntu2.1) ...\n",
            "Setting up libgtk2.0-bin (2.24.33-2ubuntu2.1) ...\n",
            "Setting up libgail-common:amd64 (2.24.33-2ubuntu2.1) ...\n",
            "Setting up libgraphviz-dev:amd64 (2.42.2-6ubuntu0.1) ...\n",
            "Processing triggers for libc-bin (2.35-0ubuntu3.4) ...\n",
            "/sbin/ldconfig.real: /usr/local/lib/libtbbbind.so.3 is not a symbolic link\n",
            "\n",
            "/sbin/ldconfig.real: /usr/local/lib/libtbbmalloc.so.2 is not a symbolic link\n",
            "\n",
            "/sbin/ldconfig.real: /usr/local/lib/libtbbbind_2_0.so.3 is not a symbolic link\n",
            "\n",
            "/sbin/ldconfig.real: /usr/local/lib/libumf.so.0 is not a symbolic link\n",
            "\n",
            "/sbin/ldconfig.real: /usr/local/lib/libhwloc.so.15 is not a symbolic link\n",
            "\n",
            "/sbin/ldconfig.real: /usr/local/lib/libur_adapter_opencl.so.0 is not a symbolic link\n",
            "\n",
            "/sbin/ldconfig.real: /usr/local/lib/libur_adapter_level_zero.so.0 is not a symbolic link\n",
            "\n",
            "/sbin/ldconfig.real: /usr/local/lib/libtcm.so.1 is not a symbolic link\n",
            "\n",
            "/sbin/ldconfig.real: /usr/local/lib/libtbbmalloc_proxy.so.2 is not a symbolic link\n",
            "\n",
            "/sbin/ldconfig.real: /usr/local/lib/libtbb.so.12 is not a symbolic link\n",
            "\n",
            "/sbin/ldconfig.real: /usr/local/lib/libur_loader.so.0 is not a symbolic link\n",
            "\n",
            "/sbin/ldconfig.real: /usr/local/lib/libtcm_debug.so.1 is not a symbolic link\n",
            "\n",
            "/sbin/ldconfig.real: /usr/local/lib/libtbbbind_2_5.so.3 is not a symbolic link\n",
            "\n",
            "Processing triggers for man-db (2.10.2-1) ...\n",
            "Processing triggers for libgdk-pixbuf-2.0-0:amd64 (2.42.8+dfsg-1ubuntu0.3) ...\n",
            "Collecting pygraphviz\n",
            "  Downloading pygraphviz-1.14.tar.gz (106 kB)\n",
            "\u001b[2K     \u001b[90m━━━━━━━━━━━━━━━━━━━━━━━━━━━━━━━━━━━━━━━━\u001b[0m \u001b[32m106.0/106.0 kB\u001b[0m \u001b[31m2.9 MB/s\u001b[0m eta \u001b[36m0:00:00\u001b[0m\n",
            "\u001b[?25h  Installing build dependencies ... \u001b[?25l\u001b[?25hdone\n",
            "  Getting requirements to build wheel ... \u001b[?25l\u001b[?25hdone\n",
            "  Preparing metadata (pyproject.toml) ... \u001b[?25l\u001b[?25hdone\n",
            "Building wheels for collected packages: pygraphviz\n",
            "  Building wheel for pygraphviz (pyproject.toml) ... \u001b[?25l\u001b[?25hdone\n",
            "  Created wheel for pygraphviz: filename=pygraphviz-1.14-cp310-cp310-linux_x86_64.whl size=168633 sha256=ae362a191ad44ef61225e6b0e4d81afc0834c99b2ee03eafad704db0de0d6937\n",
            "  Stored in directory: /root/.cache/pip/wheels/61/ab/cd/e24a22c32830b8b4948c8887d8714d399f0f806f206a034698\n",
            "Successfully built pygraphviz\n",
            "Installing collected packages: pygraphviz\n",
            "Successfully installed pygraphviz-1.14\n"
          ]
        }
      ]
    },
    {
      "cell_type": "code",
      "source": [
        "from IPython.display import Image\n",
        "\n",
        "# Assuming `graph.get_graph()` provides a graph object and `.draw_png()` generates a PNG image\n",
        "# Visualize the graph in a Jupyter notebook\n",
        "Image(graph.get_graph().draw_png())"
      ],
      "metadata": {
        "colab": {
          "base_uri": "https://localhost:8080/",
          "height": 1000
        },
        "id": "lqc9WH7Iwi48",
        "outputId": "8492a69f-1df6-4daf-9d2b-d4fe25bffff1"
      },
      "execution_count": 136,
      "outputs": [
        {
          "output_type": "execute_result",
          "data": {
            "image/png": "[encoded data removed]",
            "text/plain": [
              "<IPython.core.display.Image object>"
            ]
          },
          "metadata": {},
          "execution_count": 136
        }
      ]
    },
    {
      "cell_type": "code",
      "source": [
        "from IPython.display import Image\n",
        "\n",
        "# Assuming `graph.get_graph()` provides a graph object and `.draw_png()` generates a PNG image\n",
        "# Visualize the graph in a Jupyter notebook\n",
        "Image(graph.get_graph().draw_png())"
      ],
      "metadata": {
        "colab": {
          "base_uri": "https://localhost:8080/",
          "height": 980
        },
        "id": "oG5FhoheM5Hh",
        "outputId": "64b3d5d2-7a0c-4348-ff82-99a9be183539"
      },
      "execution_count": 79,
      "outputs": [
        {
          "output_type": "execute_result",
          "data": {
            "image/png": "[encoded data removed]",
            "text/plain": [
              "<IPython.core.display.Image object>"
            ]
          },
          "metadata": {},
          "execution_count": 79
        }
      ]
    },
    {
      "cell_type": "code",
      "source": [
        "###Case 1 :(invoice is Paid)\n",
        " # Execute the workflow\n",
        "state = InvoiceState(\n",
        "    invoice_id=\"INV-0001\",\n",
        "    po_number=\"47687632524\",\n",
        "    is_paid=\"\",\n",
        "    payment_method=\"\",\n",
        "    po_type=\"\",\n",
        "    payment_date=\"\",\n",
        "    exception_status=\"\",\n",
        "    transmission_status=\"\",\n",
        "    action_taken=\"\"\n",
        ")\n",
        "\n",
        "print(\"\\n=== Starting Workflow Execution ===\")\n",
        "# Use the invoke method to execute the graph with the initial state\n",
        "graph.invoke(state)\n"
      ],
      "metadata": {
        "colab": {
          "base_uri": "https://localhost:8080/"
        },
        "id": "xfegU8ogNBRl",
        "outputId": "d172dcb4-940a-459a-dece-77fc54b3dd57"
      },
      "execution_count": 118,
      "outputs": [
        {
          "output_type": "stream",
          "name": "stdout",
          "text": [
            "\n",
            "=== Starting Workflow Execution ===\n",
            "\n",
            "=== Imagenow Check ===\n",
            "Invoice INV-0001 payment status: Paid\n",
            "\n",
            "=== Conditional Check: Payment Status ===\n",
            "\n",
            "=== Lawson Payment Check ===\n",
            "Payment Method: check\n",
            "Payment Date: 2020-01-12 00:00:00\n",
            "Exception Status: nan\n",
            "\n",
            "=== Conditional Check: Exception Status ===\n",
            "Routing to 'email_response_node'.\n",
            "\n",
            "=== Email Response Node ===\n",
            "Drafting email to vendor using LLM for a paid invoice...\n",
            "Email Draft: Subject: Payment Confirmation for Invoice INV-0001\n",
            "\n",
            "Dear [Vendor's Name],\n",
            "\n",
            "I hope this message finds you well.\n",
            "\n",
            "I am writing to inform you that the payment for Invoice INV-0001 has been successfully processed. The payment was made via check on January 12, 2020.\n",
            "\n",
            "If you have any questions or require further details, please do not hesitate to reach out.\n",
            "\n",
            "Thank you for your continued partnership.\n",
            "\n",
            "Best regards,\n",
            "\n",
            "[Your Name]  \n",
            "[Your Position]  \n",
            "[Your Company]  \n",
            "[Your Phone Number]  \n",
            "[Your Email Address]  \n",
            "\n",
            "=== Update Notes ===\n",
            " | Notes updated in Imagenow/Ivalua\n"
          ]
        },
        {
          "output_type": "execute_result",
          "data": {
            "text/plain": [
              "{'invoice_id': 'INV-0001',\n",
              " 'po_number': '47687632524',\n",
              " 'is_paid': True,\n",
              " 'payment_method': 'check',\n",
              " 'payment_date': Timestamp('2020-01-12 00:00:00'),\n",
              " 'po_type': '',\n",
              " 'exception_status': nan,\n",
              " 'action_taken': ' | Notes updated in Imagenow/Ivalua',\n",
              " 'transmission_status': ''}"
            ]
          },
          "metadata": {},
          "execution_count": 118
        }
      ]
    },
    {
      "cell_type": "code",
      "source": [
        "###Case 2 :(Not paid,11 digit ,not transmitted)\n",
        " # Execute the workflow\n",
        "state = InvoiceState(\n",
        "    invoice_id=\"INV-0003\",\n",
        "    po_number=\"77649657916\",  # Example 11-digit PO\n",
        "    is_paid=\"\",\n",
        "    payment_method=\"\",\n",
        "    po_type=\"\",\n",
        "    payment_date=\"\",\n",
        "    exception_status=\"\",\n",
        "    transmission_status=\"\",\n",
        "    action_taken=\"\"\n",
        ")\n",
        "\n",
        "print(\"\\n=== Starting Workflow Execution ===\")\n",
        "# Use the invoke method to execute the graph with the initial state\n",
        "graph.invoke(state)"
      ],
      "metadata": {
        "colab": {
          "base_uri": "https://localhost:8080/"
        },
        "id": "nyGEHw0HOtEN",
        "outputId": "9d317f11-05a2-4913-f8bd-87a1ae7f8fbc"
      },
      "execution_count": 82,
      "outputs": [
        {
          "output_type": "stream",
          "name": "stdout",
          "text": [
            "\n",
            "=== Starting Workflow Execution ===\n",
            "\n",
            "=== Imagenow Check ===\n",
            "Invoice INV-0003 payment status: Not Paid\n",
            "\n",
            "=== Conditional Check: Payment Status ===\n",
            "Checking PO type (11-digit or 10-digit)...\n",
            "PO type determined: 11-digit\n",
            "\n",
            "=== Conditional Check: PO Length ===\n",
            "\n",
            "=== Ivalua Check ===\n",
            "Transmission Status: Not Transmitted\n",
            "Exception Status: MA126\n",
            "\n",
            "=== Conditional Check: Ivalua Exception Handling ===\n",
            "\n",
            "=== Exception Response Node ===\n",
            "Drafting email to finance_team@example.com based on exception status: MA126\n",
            "Email Draft to finance_team@example.com: Subject: Assistance Required for Invoice 77649657916 - Exception Status MA126\n",
            "\n",
            "Dear Finance Team,\n",
            "\n",
            "I hope this message finds you well.\n",
            "\n",
            "I am writing to bring to your attention an issue regarding invoice number 77649657916, which is currently showing an exception status of MA126. This status indicates that there is a discrepancy that needs to be addressed in order to proceed with processing the invoice.\n",
            "\n",
            "Upon reviewing the invoice, it appears that [briefly describe the specific issue, e.g., \"the billing amount does not match our contract terms\" or \"there are missing supporting documents\"]. This discrepancy is preventing us from completing the payment process.\n",
            "\n",
            "I would greatly appreciate your assistance in resolving this matter at your earliest convenience. If you require any additional information or documentation from my side to facilitate the resolution, please do not hesitate to let me know.\n",
            "\n",
            "Thank you for your attention to this matter. I look forward to your prompt response.\n",
            "\n",
            "Best regards,\n",
            "\n",
            "[Your Name]  \n",
            "[Your Position]  \n",
            "[Your Company]  \n",
            "[Your Contact Information]  \n",
            "\n",
            "=== Update Notes ===\n",
            " | Notes updated in Imagenow/Ivalua\n"
          ]
        },
        {
          "output_type": "execute_result",
          "data": {
            "text/plain": [
              "{'invoice_id': 'INV-0003',\n",
              " 'po_number': '77649657916',\n",
              " 'is_paid': False,\n",
              " 'payment_method': '',\n",
              " 'payment_date': '',\n",
              " 'po_type': '11-digit',\n",
              " 'exception_status': 'MA126',\n",
              " 'action_taken': ' | Notes updated in Imagenow/Ivalua',\n",
              " 'transmission_status': 'Not Transmitted'}"
            ]
          },
          "metadata": {},
          "execution_count": 82
        }
      ]
    },
    {
      "cell_type": "code",
      "source": [
        "###Case 3 :(Not paid,11 digit PO,transmitted,MA54)\n",
        " # Execute the workflow\n",
        "state = InvoiceState(\n",
        "    invoice_id=\"INV-0012\",\n",
        "    po_number=\"36182291467\",  # Example 11-digit PO\n",
        "    is_paid=\"\",\n",
        "    payment_method=\"\",\n",
        "    po_type=\"\",\n",
        "    payment_date=\"\",\n",
        "    exception_status=\"\",\n",
        "    transmission_status=\"\",\n",
        "    action_taken=\"\"\n",
        ")\n",
        "\n",
        "print(\"\\n=== Starting Workflow Execution ===\")\n",
        "# Use the invoke method to execute the graph with the initial state\n",
        "graph.invoke(state)"
      ],
      "metadata": {
        "colab": {
          "base_uri": "https://localhost:8080/"
        },
        "id": "9ybO4umnT66G",
        "outputId": "73615a69-298e-40bb-eae8-ef1b9b29e84a"
      },
      "execution_count": 120,
      "outputs": [
        {
          "output_type": "stream",
          "name": "stdout",
          "text": [
            "\n",
            "=== Starting Workflow Execution ===\n",
            "\n",
            "=== Imagenow Check ===\n",
            "Invoice INV-0012 payment status: Not Paid\n",
            "\n",
            "=== Conditional Check: Payment Status ===\n",
            "Checking PO type (11-digit or 10-digit)...\n",
            "PO type determined: 11-digit\n",
            "\n",
            "=== Conditional Check: PO Length ===\n",
            "\n",
            "=== Ivalua Check ===\n",
            "Transmission Status: Transmitted\n",
            "No exception status found.\n",
            "\n",
            "=== Conditional Check: Ivalua Exception Handling ===\n",
            "\n",
            "=== Lawson Payment Check ===\n",
            "Payment Method: nan\n",
            "Payment Date: NaT\n",
            "Exception Status: MA54\n",
            "\n",
            "=== Conditional Check: Exception Status ===\n",
            "Routing to 'exception_response' node.\n",
            "\n",
            "=== Exception Response Node ===\n",
            "Drafting email to accounting_team@example.com based on exception status: MA54\n",
            "Email Draft to accounting_team@example.com: Subject: Assistance Required for Invoice 36182291467 - Exception Status MA54\n",
            "\n",
            "Dear Accounting Team,\n",
            "\n",
            "I hope this message finds you well.\n",
            "\n",
            "I am writing to bring to your attention an issue with invoice number 36182291467, which currently has an exception status of MA54. We have reviewed the invoice and noticed that it is not processing as expected.\n",
            "\n",
            "To provide you with more context, the MA54 status indicates [insert specific meaning of MA54, if known, or a brief description of what this status typically signifies]. This has resulted in a delay in our records and could potentially affect our financial reporting.\n",
            "\n",
            "Could you please assist us in investigating this matter? We would appreciate your guidance on the steps we need to take to rectify the issue and ensure the invoice is processed correctly. If you require any additional information or documentation from our end, please do not hesitate to let me know.\n",
            "\n",
            "Thank you for your attention to this matter. I look forward to your prompt response.\n",
            "\n",
            "Best regards,\n",
            "\n",
            "[Your Name]  \n",
            "[Your Position]  \n",
            "[Your Company]  \n",
            "[Your Phone Number]  \n",
            "[Your Email Address]  \n",
            "\n",
            "=== Update Notes ===\n",
            " | Notes updated in Imagenow/Ivalua\n"
          ]
        },
        {
          "output_type": "execute_result",
          "data": {
            "text/plain": [
              "{'invoice_id': 'INV-0012',\n",
              " 'po_number': '36182291467',\n",
              " 'is_paid': False,\n",
              " 'payment_method': nan,\n",
              " 'payment_date': NaT,\n",
              " 'po_type': '11-digit',\n",
              " 'exception_status': 'MA54',\n",
              " 'action_taken': ' | Notes updated in Imagenow/Ivalua',\n",
              " 'transmission_status': 'Transmitted'}"
            ]
          },
          "metadata": {},
          "execution_count": 120
        }
      ]
    },
    {
      "cell_type": "code",
      "source": [
        "###Case 4 :(Not paid,transmitted and realeased ,AP90)\n",
        " # Execute the workflow\n",
        "state = InvoiceState(\n",
        "    invoice_id=\"INV-0009\",\n",
        "    po_number=\"81092089028\",  # Example 11-digit PO\n",
        "    is_paid=\"\",\n",
        "    payment_method=\"\",\n",
        "    po_type=\"\",\n",
        "    payment_date=\"\",\n",
        "    exception_status=\"\",\n",
        "    transmission_status=\"\",\n",
        "    action_taken=\"\"\n",
        ")\n",
        "\n",
        "print(\"\\n=== Starting Workflow Execution ===\")\n",
        "# Use the invoke method to execute the graph with the initial state\n",
        "graph.invoke(state)"
      ],
      "metadata": {
        "colab": {
          "base_uri": "https://localhost:8080/"
        },
        "id": "-YUrD4xlQkbz",
        "outputId": "051f51b9-86e0-4073-a297-1e17a35cf251"
      },
      "execution_count": 119,
      "outputs": [
        {
          "output_type": "stream",
          "name": "stdout",
          "text": [
            "\n",
            "=== Starting Workflow Execution ===\n",
            "\n",
            "=== Imagenow Check ===\n",
            "Invoice INV-0009 payment status: Not Paid\n",
            "\n",
            "=== Conditional Check: Payment Status ===\n",
            "Checking PO type (11-digit or 10-digit)...\n",
            "PO type determined: 11-digit\n",
            "\n",
            "=== Conditional Check: PO Length ===\n",
            "\n",
            "=== Ivalua Check ===\n",
            "Transmission Status: Transmitted\n",
            "No exception status found.\n",
            "\n",
            "=== Conditional Check: Ivalua Exception Handling ===\n",
            "\n",
            "=== Lawson Payment Check ===\n",
            "Payment Method: Debit Card\n",
            "Payment Date: 2020-02-01 00:00:00\n",
            "Exception Status: AP90\n",
            "\n",
            "=== Conditional Check: Exception Status ===\n",
            "Routing to 'email_response_node'.\n",
            "\n",
            "=== Email Response Node ===\n",
            "Drafting email to vendor using LLM for pending payment with available details...\n",
            "Email Draft: Subject: Payment Details for Invoice INV-0009\n",
            "\n",
            "Dear [Vendor's Name],\n",
            "\n",
            "I hope this message finds you well.\n",
            "\n",
            "I am writing to inform you about the payment details related to invoice INV-0009. Please note that while the payment is still pending, our system indicates the following details:\n",
            "\n",
            "- **Payment Method:** Debit Card  \n",
            "- **Payment Date:** February 1, 2020\n",
            "\n",
            "If you require further confirmation or additional information regarding this payment, please do not hesitate to reach out. We appreciate your cooperation and look forward to resolving this matter promptly.\n",
            "\n",
            "Thank you for your attention to this issue.\n",
            "\n",
            "Best regards,\n",
            "\n",
            "[Your Name]  \n",
            "[Your Position]  \n",
            "[Your Company]  \n",
            "[Your Contact Information]  \n",
            "\n",
            "=== Update Notes ===\n",
            " | Notes updated in Imagenow/Ivalua\n"
          ]
        },
        {
          "output_type": "execute_result",
          "data": {
            "text/plain": [
              "{'invoice_id': 'INV-0009',\n",
              " 'po_number': '81092089028',\n",
              " 'is_paid': False,\n",
              " 'payment_method': 'Debit Card',\n",
              " 'payment_date': Timestamp('2020-02-01 00:00:00'),\n",
              " 'po_type': '11-digit',\n",
              " 'exception_status': 'AP90',\n",
              " 'action_taken': ' | Notes updated in Imagenow/Ivalua',\n",
              " 'transmission_status': 'Transmitted'}"
            ]
          },
          "metadata": {},
          "execution_count": 119
        }
      ]
    },
    {
      "cell_type": "code",
      "source": [
        "###Case 5 :(10 digit PO)\n",
        " # Execute the workflow\n",
        "state = InvoiceState(\n",
        "    invoice_id=\"INV-0004\",\n",
        "    po_number=\"2198219623\",  # Example 11-digit PO\n",
        "    is_paid=\"\",\n",
        "    payment_method=\"\",\n",
        "    po_type=\"\",\n",
        "    payment_date=\"\",\n",
        "    exception_status=\"\",\n",
        "    transmission_status=\"\",\n",
        "    action_taken=\"\"\n",
        ")\n",
        "\n",
        "print(\"\\n=== Starting Workflow Execution ===\")\n",
        "# Use the invoke method to execute the graph with the initial state\n",
        "graph.invoke(state)"
      ],
      "metadata": {
        "colab": {
          "base_uri": "https://localhost:8080/"
        },
        "id": "T45PjmK2NnZF",
        "outputId": "eae88a4b-19fd-460f-f149-e20351909252"
      },
      "execution_count": 81,
      "outputs": [
        {
          "output_type": "stream",
          "name": "stdout",
          "text": [
            "\n",
            "=== Starting Workflow Execution ===\n",
            "\n",
            "=== Imagenow Check ===\n",
            "Invoice INV-0004 payment status: Not Paid\n",
            "\n",
            "=== Conditional Check: Payment Status ===\n",
            "Checking PO type (11-digit or 10-digit)...\n",
            "PO type determined: 10-digit\n",
            "\n",
            "=== Conditional Check: PO Length ===\n",
            "\n",
            "=== Lawson Payment Check ===\n",
            "Payment Method: nan\n",
            "Payment Date: NaT\n",
            "Exception Status: MA126\n",
            "\n",
            "=== Conditional Check: Exception Status ===\n",
            "Routing to 'exception_response' node.\n",
            "\n",
            "=== Exception Response Node ===\n",
            "Drafting email to finance_team@example.com based on exception status: MA126\n",
            "Email Draft to finance_team@example.com: Subject: Assistance Required with Invoice 2198219623 – Exception Status MA126\n",
            "\n",
            "Dear Finance Team,\n",
            "\n",
            "I hope this message finds you well.\n",
            "\n",
            "I am writing to bring to your attention an issue we have encountered with invoice number 2198219623. Currently, this invoice is showing an exception status of MA126, which has prevented us from processing it further.\n",
            "\n",
            "Upon reviewing the details, it appears that there may be a discrepancy related to [briefly describe the nature of the issue, e.g., \"the billing amount,\" \"the service description,\" or \"the payment terms\"]. This has resulted in a hold on the invoice, and we are unable to proceed without resolving this matter.\n",
            "\n",
            "Could you please assist us in identifying the specific reason for the MA126 exception status? Any guidance or additional information you can provide would be greatly appreciated, as it will help us expedite the resolution process.\n",
            "\n",
            "Thank you for your attention to this matter. I look forward to your prompt response so we can resolve this issue as soon as possible.\n",
            "\n",
            "Best regards,\n",
            "\n",
            "[Your Name]  \n",
            "[Your Job Title]  \n",
            "[Your Company]  \n",
            "[Your Contact Information]  \n",
            "[Your Company Address]  \n",
            "\n",
            "=== Update Notes ===\n",
            " | Notes updated in Imagenow/Ivalua\n"
          ]
        },
        {
          "output_type": "execute_result",
          "data": {
            "text/plain": [
              "{'invoice_id': 'INV-0004',\n",
              " 'po_number': '2198219623',\n",
              " 'is_paid': False,\n",
              " 'payment_method': nan,\n",
              " 'payment_date': NaT,\n",
              " 'po_type': '10-digit',\n",
              " 'exception_status': 'MA126',\n",
              " 'action_taken': ' | Notes updated in Imagenow/Ivalua',\n",
              " 'transmission_status': ''}"
            ]
          },
          "metadata": {},
          "execution_count": 81
        }
      ]
    },
    {
      "cell_type": "code",
      "source": [],
      "metadata": {
        "id": "rycXfPdjoH5k"
      },
      "execution_count": null,
      "outputs": []
    }
  ]
}