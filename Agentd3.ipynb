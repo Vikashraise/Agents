{
  "nbformat": 4,
  "nbformat_minor": 0,
  "metadata": {
    "colab": {
      "provenance": []
    },
    "kernelspec": {
      "name": "python3",
      "display_name": "Python 3"
    },
    "language_info": {
      "name": "python"
    }
  },
  "cells": [
    {
      "cell_type": "code",
      "execution_count": 1,
      "metadata": {
        "id": "3_fl2c9OUI3A"
      },
      "outputs": [],
      "source": []
    },
    {
      "cell_type": "code",
      "source": [
        "!pip install langchain_openai"
      ],
      "metadata": {
        "colab": {
          "base_uri": "https://localhost:8080/"
        },
        "id": "rAilYYcO00DR",
        "outputId": "8c525393-9211-44d5-c264-35b93b4c331b"
      },
      "execution_count": 2,
      "outputs": [
        {
          "output_type": "stream",
          "name": "stdout",
          "text": [
            "Collecting langchain_openai\n",
            "  Downloading langchain_openai-0.3.3-py3-none-any.whl.metadata (2.7 kB)\n",
            "Collecting langchain-core<0.4.0,>=0.3.33 (from langchain_openai)\n",
            "  Downloading langchain_core-0.3.33-py3-none-any.whl.metadata (6.3 kB)\n",
            "Requirement already satisfied: openai<2.0.0,>=1.58.1 in /usr/local/lib/python3.11/dist-packages (from langchain_openai) (1.59.9)\n",
            "Collecting tiktoken<1,>=0.7 (from langchain_openai)\n",
            "  Downloading tiktoken-0.8.0-cp311-cp311-manylinux_2_17_x86_64.manylinux2014_x86_64.whl.metadata (6.6 kB)\n",
            "Requirement already satisfied: PyYAML>=5.3 in /usr/local/lib/python3.11/dist-packages (from langchain-core<0.4.0,>=0.3.33->langchain_openai) (6.0.2)\n",
            "Requirement already satisfied: jsonpatch<2.0,>=1.33 in /usr/local/lib/python3.11/dist-packages (from langchain-core<0.4.0,>=0.3.33->langchain_openai) (1.33)\n",
            "Requirement already satisfied: langsmith<0.4,>=0.1.125 in /usr/local/lib/python3.11/dist-packages (from langchain-core<0.4.0,>=0.3.33->langchain_openai) (0.3.2)\n",
            "Requirement already satisfied: packaging<25,>=23.2 in /usr/local/lib/python3.11/dist-packages (from langchain-core<0.4.0,>=0.3.33->langchain_openai) (24.2)\n",
            "Requirement already satisfied: pydantic<3.0.0,>=2.5.2 in /usr/local/lib/python3.11/dist-packages (from langchain-core<0.4.0,>=0.3.33->langchain_openai) (2.10.6)\n",
            "Requirement already satisfied: tenacity!=8.4.0,<10.0.0,>=8.1.0 in /usr/local/lib/python3.11/dist-packages (from langchain-core<0.4.0,>=0.3.33->langchain_openai) (9.0.0)\n",
            "Requirement already satisfied: typing-extensions>=4.7 in /usr/local/lib/python3.11/dist-packages (from langchain-core<0.4.0,>=0.3.33->langchain_openai) (4.12.2)\n",
            "Requirement already satisfied: anyio<5,>=3.5.0 in /usr/local/lib/python3.11/dist-packages (from openai<2.0.0,>=1.58.1->langchain_openai) (3.7.1)\n",
            "Requirement already satisfied: distro<2,>=1.7.0 in /usr/local/lib/python3.11/dist-packages (from openai<2.0.0,>=1.58.1->langchain_openai) (1.9.0)\n",
            "Requirement already satisfied: httpx<1,>=0.23.0 in /usr/local/lib/python3.11/dist-packages (from openai<2.0.0,>=1.58.1->langchain_openai) (0.28.1)\n",
            "Requirement already satisfied: jiter<1,>=0.4.0 in /usr/local/lib/python3.11/dist-packages (from openai<2.0.0,>=1.58.1->langchain_openai) (0.8.2)\n",
            "Requirement already satisfied: sniffio in /usr/local/lib/python3.11/dist-packages (from openai<2.0.0,>=1.58.1->langchain_openai) (1.3.1)\n",
            "Requirement already satisfied: tqdm>4 in /usr/local/lib/python3.11/dist-packages (from openai<2.0.0,>=1.58.1->langchain_openai) (4.67.1)\n",
            "Requirement already satisfied: regex>=2022.1.18 in /usr/local/lib/python3.11/dist-packages (from tiktoken<1,>=0.7->langchain_openai) (2024.11.6)\n",
            "Requirement already satisfied: requests>=2.26.0 in /usr/local/lib/python3.11/dist-packages (from tiktoken<1,>=0.7->langchain_openai) (2.32.3)\n",
            "Requirement already satisfied: idna>=2.8 in /usr/local/lib/python3.11/dist-packages (from anyio<5,>=3.5.0->openai<2.0.0,>=1.58.1->langchain_openai) (3.10)\n",
            "Requirement already satisfied: certifi in /usr/local/lib/python3.11/dist-packages (from httpx<1,>=0.23.0->openai<2.0.0,>=1.58.1->langchain_openai) (2024.12.14)\n",
            "Requirement already satisfied: httpcore==1.* in /usr/local/lib/python3.11/dist-packages (from httpx<1,>=0.23.0->openai<2.0.0,>=1.58.1->langchain_openai) (1.0.7)\n",
            "Requirement already satisfied: h11<0.15,>=0.13 in /usr/local/lib/python3.11/dist-packages (from httpcore==1.*->httpx<1,>=0.23.0->openai<2.0.0,>=1.58.1->langchain_openai) (0.14.0)\n",
            "Requirement already satisfied: jsonpointer>=1.9 in /usr/local/lib/python3.11/dist-packages (from jsonpatch<2.0,>=1.33->langchain-core<0.4.0,>=0.3.33->langchain_openai) (3.0.0)\n",
            "Requirement already satisfied: orjson<4.0.0,>=3.9.14 in /usr/local/lib/python3.11/dist-packages (from langsmith<0.4,>=0.1.125->langchain-core<0.4.0,>=0.3.33->langchain_openai) (3.10.15)\n",
            "Requirement already satisfied: requests-toolbelt<2.0.0,>=1.0.0 in /usr/local/lib/python3.11/dist-packages (from langsmith<0.4,>=0.1.125->langchain-core<0.4.0,>=0.3.33->langchain_openai) (1.0.0)\n",
            "Requirement already satisfied: zstandard<0.24.0,>=0.23.0 in /usr/local/lib/python3.11/dist-packages (from langsmith<0.4,>=0.1.125->langchain-core<0.4.0,>=0.3.33->langchain_openai) (0.23.0)\n",
            "Requirement already satisfied: annotated-types>=0.6.0 in /usr/local/lib/python3.11/dist-packages (from pydantic<3.0.0,>=2.5.2->langchain-core<0.4.0,>=0.3.33->langchain_openai) (0.7.0)\n",
            "Requirement already satisfied: pydantic-core==2.27.2 in /usr/local/lib/python3.11/dist-packages (from pydantic<3.0.0,>=2.5.2->langchain-core<0.4.0,>=0.3.33->langchain_openai) (2.27.2)\n",
            "Requirement already satisfied: charset-normalizer<4,>=2 in /usr/local/lib/python3.11/dist-packages (from requests>=2.26.0->tiktoken<1,>=0.7->langchain_openai) (3.4.1)\n",
            "Requirement already satisfied: urllib3<3,>=1.21.1 in /usr/local/lib/python3.11/dist-packages (from requests>=2.26.0->tiktoken<1,>=0.7->langchain_openai) (2.3.0)\n",
            "Downloading langchain_openai-0.3.3-py3-none-any.whl (54 kB)\n",
            "\u001b[2K   \u001b[90m━━━━━━━━━━━━━━━━━━━━━━━━━━━━━━━━━━━━━━━━\u001b[0m \u001b[32m54.5/54.5 kB\u001b[0m \u001b[31m2.2 MB/s\u001b[0m eta \u001b[36m0:00:00\u001b[0m\n",
            "\u001b[?25hDownloading langchain_core-0.3.33-py3-none-any.whl (412 kB)\n",
            "\u001b[2K   \u001b[90m━━━━━━━━━━━━━━━━━━━━━━━━━━━━━━━━━━━━━━━━\u001b[0m \u001b[32m412.7/412.7 kB\u001b[0m \u001b[31m11.3 MB/s\u001b[0m eta \u001b[36m0:00:00\u001b[0m\n",
            "\u001b[?25hDownloading tiktoken-0.8.0-cp311-cp311-manylinux_2_17_x86_64.manylinux2014_x86_64.whl (1.2 MB)\n",
            "\u001b[2K   \u001b[90m━━━━━━━━━━━━━━━━━━━━━━━━━━━━━━━━━━━━━━━━\u001b[0m \u001b[32m1.2/1.2 MB\u001b[0m \u001b[31m35.9 MB/s\u001b[0m eta \u001b[36m0:00:00\u001b[0m\n",
            "\u001b[?25hInstalling collected packages: tiktoken, langchain-core, langchain_openai\n",
            "  Attempting uninstall: langchain-core\n",
            "    Found existing installation: langchain-core 0.3.32\n",
            "    Uninstalling langchain-core-0.3.32:\n",
            "      Successfully uninstalled langchain-core-0.3.32\n",
            "Successfully installed langchain-core-0.3.33 langchain_openai-0.3.3 tiktoken-0.8.0\n"
          ]
        }
      ]
    },
    {
      "cell_type": "code",
      "source": [
        "!pip install langgraph"
      ],
      "metadata": {
        "colab": {
          "base_uri": "https://localhost:8080/"
        },
        "id": "-tgJAQny0_Sf",
        "outputId": "a30f3118-231e-449c-cc30-ad38c5e73e8c"
      },
      "execution_count": 3,
      "outputs": [
        {
          "output_type": "stream",
          "name": "stdout",
          "text": [
            "Collecting langgraph\n",
            "  Downloading langgraph-0.2.69-py3-none-any.whl.metadata (17 kB)\n",
            "Requirement already satisfied: langchain-core!=0.3.0,!=0.3.1,!=0.3.10,!=0.3.11,!=0.3.12,!=0.3.13,!=0.3.14,!=0.3.15,!=0.3.16,!=0.3.17,!=0.3.18,!=0.3.19,!=0.3.2,!=0.3.20,!=0.3.21,!=0.3.22,!=0.3.3,!=0.3.4,!=0.3.5,!=0.3.6,!=0.3.7,!=0.3.8,!=0.3.9,<0.4.0,>=0.2.43 in /usr/local/lib/python3.11/dist-packages (from langgraph) (0.3.33)\n",
            "Collecting langgraph-checkpoint<3.0.0,>=2.0.10 (from langgraph)\n",
            "  Downloading langgraph_checkpoint-2.0.10-py3-none-any.whl.metadata (4.6 kB)\n",
            "Collecting langgraph-sdk<0.2.0,>=0.1.42 (from langgraph)\n",
            "  Downloading langgraph_sdk-0.1.51-py3-none-any.whl.metadata (1.8 kB)\n",
            "Requirement already satisfied: PyYAML>=5.3 in /usr/local/lib/python3.11/dist-packages (from langchain-core!=0.3.0,!=0.3.1,!=0.3.10,!=0.3.11,!=0.3.12,!=0.3.13,!=0.3.14,!=0.3.15,!=0.3.16,!=0.3.17,!=0.3.18,!=0.3.19,!=0.3.2,!=0.3.20,!=0.3.21,!=0.3.22,!=0.3.3,!=0.3.4,!=0.3.5,!=0.3.6,!=0.3.7,!=0.3.8,!=0.3.9,<0.4.0,>=0.2.43->langgraph) (6.0.2)\n",
            "Requirement already satisfied: jsonpatch<2.0,>=1.33 in /usr/local/lib/python3.11/dist-packages (from langchain-core!=0.3.0,!=0.3.1,!=0.3.10,!=0.3.11,!=0.3.12,!=0.3.13,!=0.3.14,!=0.3.15,!=0.3.16,!=0.3.17,!=0.3.18,!=0.3.19,!=0.3.2,!=0.3.20,!=0.3.21,!=0.3.22,!=0.3.3,!=0.3.4,!=0.3.5,!=0.3.6,!=0.3.7,!=0.3.8,!=0.3.9,<0.4.0,>=0.2.43->langgraph) (1.33)\n",
            "Requirement already satisfied: langsmith<0.4,>=0.1.125 in /usr/local/lib/python3.11/dist-packages (from langchain-core!=0.3.0,!=0.3.1,!=0.3.10,!=0.3.11,!=0.3.12,!=0.3.13,!=0.3.14,!=0.3.15,!=0.3.16,!=0.3.17,!=0.3.18,!=0.3.19,!=0.3.2,!=0.3.20,!=0.3.21,!=0.3.22,!=0.3.3,!=0.3.4,!=0.3.5,!=0.3.6,!=0.3.7,!=0.3.8,!=0.3.9,<0.4.0,>=0.2.43->langgraph) (0.3.2)\n",
            "Requirement already satisfied: packaging<25,>=23.2 in /usr/local/lib/python3.11/dist-packages (from langchain-core!=0.3.0,!=0.3.1,!=0.3.10,!=0.3.11,!=0.3.12,!=0.3.13,!=0.3.14,!=0.3.15,!=0.3.16,!=0.3.17,!=0.3.18,!=0.3.19,!=0.3.2,!=0.3.20,!=0.3.21,!=0.3.22,!=0.3.3,!=0.3.4,!=0.3.5,!=0.3.6,!=0.3.7,!=0.3.8,!=0.3.9,<0.4.0,>=0.2.43->langgraph) (24.2)\n",
            "Requirement already satisfied: pydantic<3.0.0,>=2.5.2 in /usr/local/lib/python3.11/dist-packages (from langchain-core!=0.3.0,!=0.3.1,!=0.3.10,!=0.3.11,!=0.3.12,!=0.3.13,!=0.3.14,!=0.3.15,!=0.3.16,!=0.3.17,!=0.3.18,!=0.3.19,!=0.3.2,!=0.3.20,!=0.3.21,!=0.3.22,!=0.3.3,!=0.3.4,!=0.3.5,!=0.3.6,!=0.3.7,!=0.3.8,!=0.3.9,<0.4.0,>=0.2.43->langgraph) (2.10.6)\n",
            "Requirement already satisfied: tenacity!=8.4.0,<10.0.0,>=8.1.0 in /usr/local/lib/python3.11/dist-packages (from langchain-core!=0.3.0,!=0.3.1,!=0.3.10,!=0.3.11,!=0.3.12,!=0.3.13,!=0.3.14,!=0.3.15,!=0.3.16,!=0.3.17,!=0.3.18,!=0.3.19,!=0.3.2,!=0.3.20,!=0.3.21,!=0.3.22,!=0.3.3,!=0.3.4,!=0.3.5,!=0.3.6,!=0.3.7,!=0.3.8,!=0.3.9,<0.4.0,>=0.2.43->langgraph) (9.0.0)\n",
            "Requirement already satisfied: typing-extensions>=4.7 in /usr/local/lib/python3.11/dist-packages (from langchain-core!=0.3.0,!=0.3.1,!=0.3.10,!=0.3.11,!=0.3.12,!=0.3.13,!=0.3.14,!=0.3.15,!=0.3.16,!=0.3.17,!=0.3.18,!=0.3.19,!=0.3.2,!=0.3.20,!=0.3.21,!=0.3.22,!=0.3.3,!=0.3.4,!=0.3.5,!=0.3.6,!=0.3.7,!=0.3.8,!=0.3.9,<0.4.0,>=0.2.43->langgraph) (4.12.2)\n",
            "Requirement already satisfied: msgpack<2.0.0,>=1.1.0 in /usr/local/lib/python3.11/dist-packages (from langgraph-checkpoint<3.0.0,>=2.0.10->langgraph) (1.1.0)\n",
            "Requirement already satisfied: httpx>=0.25.2 in /usr/local/lib/python3.11/dist-packages (from langgraph-sdk<0.2.0,>=0.1.42->langgraph) (0.28.1)\n",
            "Requirement already satisfied: orjson>=3.10.1 in /usr/local/lib/python3.11/dist-packages (from langgraph-sdk<0.2.0,>=0.1.42->langgraph) (3.10.15)\n",
            "Requirement already satisfied: anyio in /usr/local/lib/python3.11/dist-packages (from httpx>=0.25.2->langgraph-sdk<0.2.0,>=0.1.42->langgraph) (3.7.1)\n",
            "Requirement already satisfied: certifi in /usr/local/lib/python3.11/dist-packages (from httpx>=0.25.2->langgraph-sdk<0.2.0,>=0.1.42->langgraph) (2024.12.14)\n",
            "Requirement already satisfied: httpcore==1.* in /usr/local/lib/python3.11/dist-packages (from httpx>=0.25.2->langgraph-sdk<0.2.0,>=0.1.42->langgraph) (1.0.7)\n",
            "Requirement already satisfied: idna in /usr/local/lib/python3.11/dist-packages (from httpx>=0.25.2->langgraph-sdk<0.2.0,>=0.1.42->langgraph) (3.10)\n",
            "Requirement already satisfied: h11<0.15,>=0.13 in /usr/local/lib/python3.11/dist-packages (from httpcore==1.*->httpx>=0.25.2->langgraph-sdk<0.2.0,>=0.1.42->langgraph) (0.14.0)\n",
            "Requirement already satisfied: jsonpointer>=1.9 in /usr/local/lib/python3.11/dist-packages (from jsonpatch<2.0,>=1.33->langchain-core!=0.3.0,!=0.3.1,!=0.3.10,!=0.3.11,!=0.3.12,!=0.3.13,!=0.3.14,!=0.3.15,!=0.3.16,!=0.3.17,!=0.3.18,!=0.3.19,!=0.3.2,!=0.3.20,!=0.3.21,!=0.3.22,!=0.3.3,!=0.3.4,!=0.3.5,!=0.3.6,!=0.3.7,!=0.3.8,!=0.3.9,<0.4.0,>=0.2.43->langgraph) (3.0.0)\n",
            "Requirement already satisfied: requests<3,>=2 in /usr/local/lib/python3.11/dist-packages (from langsmith<0.4,>=0.1.125->langchain-core!=0.3.0,!=0.3.1,!=0.3.10,!=0.3.11,!=0.3.12,!=0.3.13,!=0.3.14,!=0.3.15,!=0.3.16,!=0.3.17,!=0.3.18,!=0.3.19,!=0.3.2,!=0.3.20,!=0.3.21,!=0.3.22,!=0.3.3,!=0.3.4,!=0.3.5,!=0.3.6,!=0.3.7,!=0.3.8,!=0.3.9,<0.4.0,>=0.2.43->langgraph) (2.32.3)\n",
            "Requirement already satisfied: requests-toolbelt<2.0.0,>=1.0.0 in /usr/local/lib/python3.11/dist-packages (from langsmith<0.4,>=0.1.125->langchain-core!=0.3.0,!=0.3.1,!=0.3.10,!=0.3.11,!=0.3.12,!=0.3.13,!=0.3.14,!=0.3.15,!=0.3.16,!=0.3.17,!=0.3.18,!=0.3.19,!=0.3.2,!=0.3.20,!=0.3.21,!=0.3.22,!=0.3.3,!=0.3.4,!=0.3.5,!=0.3.6,!=0.3.7,!=0.3.8,!=0.3.9,<0.4.0,>=0.2.43->langgraph) (1.0.0)\n",
            "Requirement already satisfied: zstandard<0.24.0,>=0.23.0 in /usr/local/lib/python3.11/dist-packages (from langsmith<0.4,>=0.1.125->langchain-core!=0.3.0,!=0.3.1,!=0.3.10,!=0.3.11,!=0.3.12,!=0.3.13,!=0.3.14,!=0.3.15,!=0.3.16,!=0.3.17,!=0.3.18,!=0.3.19,!=0.3.2,!=0.3.20,!=0.3.21,!=0.3.22,!=0.3.3,!=0.3.4,!=0.3.5,!=0.3.6,!=0.3.7,!=0.3.8,!=0.3.9,<0.4.0,>=0.2.43->langgraph) (0.23.0)\n",
            "Requirement already satisfied: annotated-types>=0.6.0 in /usr/local/lib/python3.11/dist-packages (from pydantic<3.0.0,>=2.5.2->langchain-core!=0.3.0,!=0.3.1,!=0.3.10,!=0.3.11,!=0.3.12,!=0.3.13,!=0.3.14,!=0.3.15,!=0.3.16,!=0.3.17,!=0.3.18,!=0.3.19,!=0.3.2,!=0.3.20,!=0.3.21,!=0.3.22,!=0.3.3,!=0.3.4,!=0.3.5,!=0.3.6,!=0.3.7,!=0.3.8,!=0.3.9,<0.4.0,>=0.2.43->langgraph) (0.7.0)\n",
            "Requirement already satisfied: pydantic-core==2.27.2 in /usr/local/lib/python3.11/dist-packages (from pydantic<3.0.0,>=2.5.2->langchain-core!=0.3.0,!=0.3.1,!=0.3.10,!=0.3.11,!=0.3.12,!=0.3.13,!=0.3.14,!=0.3.15,!=0.3.16,!=0.3.17,!=0.3.18,!=0.3.19,!=0.3.2,!=0.3.20,!=0.3.21,!=0.3.22,!=0.3.3,!=0.3.4,!=0.3.5,!=0.3.6,!=0.3.7,!=0.3.8,!=0.3.9,<0.4.0,>=0.2.43->langgraph) (2.27.2)\n",
            "Requirement already satisfied: charset-normalizer<4,>=2 in /usr/local/lib/python3.11/dist-packages (from requests<3,>=2->langsmith<0.4,>=0.1.125->langchain-core!=0.3.0,!=0.3.1,!=0.3.10,!=0.3.11,!=0.3.12,!=0.3.13,!=0.3.14,!=0.3.15,!=0.3.16,!=0.3.17,!=0.3.18,!=0.3.19,!=0.3.2,!=0.3.20,!=0.3.21,!=0.3.22,!=0.3.3,!=0.3.4,!=0.3.5,!=0.3.6,!=0.3.7,!=0.3.8,!=0.3.9,<0.4.0,>=0.2.43->langgraph) (3.4.1)\n",
            "Requirement already satisfied: urllib3<3,>=1.21.1 in /usr/local/lib/python3.11/dist-packages (from requests<3,>=2->langsmith<0.4,>=0.1.125->langchain-core!=0.3.0,!=0.3.1,!=0.3.10,!=0.3.11,!=0.3.12,!=0.3.13,!=0.3.14,!=0.3.15,!=0.3.16,!=0.3.17,!=0.3.18,!=0.3.19,!=0.3.2,!=0.3.20,!=0.3.21,!=0.3.22,!=0.3.3,!=0.3.4,!=0.3.5,!=0.3.6,!=0.3.7,!=0.3.8,!=0.3.9,<0.4.0,>=0.2.43->langgraph) (2.3.0)\n",
            "Requirement already satisfied: sniffio>=1.1 in /usr/local/lib/python3.11/dist-packages (from anyio->httpx>=0.25.2->langgraph-sdk<0.2.0,>=0.1.42->langgraph) (1.3.1)\n",
            "Downloading langgraph-0.2.69-py3-none-any.whl (148 kB)\n",
            "\u001b[2K   \u001b[90m━━━━━━━━━━━━━━━━━━━━━━━━━━━━━━━━━━━━━━━━\u001b[0m \u001b[32m148.7/148.7 kB\u001b[0m \u001b[31m2.8 MB/s\u001b[0m eta \u001b[36m0:00:00\u001b[0m\n",
            "\u001b[?25hDownloading langgraph_checkpoint-2.0.10-py3-none-any.whl (37 kB)\n",
            "Downloading langgraph_sdk-0.1.51-py3-none-any.whl (44 kB)\n",
            "\u001b[2K   \u001b[90m━━━━━━━━━━━━━━━━━━━━━━━━━━━━━━━━━━━━━━━━\u001b[0m \u001b[32m44.7/44.7 kB\u001b[0m \u001b[31m1.5 MB/s\u001b[0m eta \u001b[36m0:00:00\u001b[0m\n",
            "\u001b[?25hInstalling collected packages: langgraph-sdk, langgraph-checkpoint, langgraph\n",
            "Successfully installed langgraph-0.2.69 langgraph-checkpoint-2.0.10 langgraph-sdk-0.1.51\n"
          ]
        }
      ]
    },
    {
      "cell_type": "code",
      "source": [
        "from langchain_openai import ChatOpenAI\n",
        "from langchain_core.tools import tool\n",
        "from langgraph.graph import StateGraph, MessagesState, START, END\n",
        "from langgraph.prebuilt import ToolNode\n",
        "from langgraph.prebuilt.tool_validator import ValidationNode\n"
      ],
      "metadata": {
        "id": "49oNU_Zy0rOe"
      },
      "execution_count": 4,
      "outputs": []
    },
    {
      "cell_type": "code",
      "source": [
        "!pip install langchain_community"
      ],
      "metadata": {
        "colab": {
          "base_uri": "https://localhost:8080/"
        },
        "id": "ytuDSDsxUV9U",
        "outputId": "29a72f49-8fc0-41d4-b9ca-39f457d75c86"
      },
      "execution_count": 5,
      "outputs": [
        {
          "output_type": "stream",
          "name": "stdout",
          "text": [
            "Collecting langchain_community\n",
            "  Downloading langchain_community-0.3.16-py3-none-any.whl.metadata (2.9 kB)\n",
            "Requirement already satisfied: PyYAML>=5.3 in /usr/local/lib/python3.11/dist-packages (from langchain_community) (6.0.2)\n",
            "Requirement already satisfied: SQLAlchemy<3,>=1.4 in /usr/local/lib/python3.11/dist-packages (from langchain_community) (2.0.37)\n",
            "Requirement already satisfied: aiohttp<4.0.0,>=3.8.3 in /usr/local/lib/python3.11/dist-packages (from langchain_community) (3.11.11)\n",
            "Collecting dataclasses-json<0.7,>=0.5.7 (from langchain_community)\n",
            "  Downloading dataclasses_json-0.6.7-py3-none-any.whl.metadata (25 kB)\n",
            "Collecting httpx-sse<0.5.0,>=0.4.0 (from langchain_community)\n",
            "  Downloading httpx_sse-0.4.0-py3-none-any.whl.metadata (9.0 kB)\n",
            "Requirement already satisfied: langchain<0.4.0,>=0.3.16 in /usr/local/lib/python3.11/dist-packages (from langchain_community) (0.3.16)\n",
            "Requirement already satisfied: langchain-core<0.4.0,>=0.3.32 in /usr/local/lib/python3.11/dist-packages (from langchain_community) (0.3.33)\n",
            "Requirement already satisfied: langsmith<0.4,>=0.1.125 in /usr/local/lib/python3.11/dist-packages (from langchain_community) (0.3.2)\n",
            "Requirement already satisfied: numpy<2,>=1.22.4 in /usr/local/lib/python3.11/dist-packages (from langchain_community) (1.26.4)\n",
            "Collecting pydantic-settings<3.0.0,>=2.4.0 (from langchain_community)\n",
            "  Downloading pydantic_settings-2.7.1-py3-none-any.whl.metadata (3.5 kB)\n",
            "Requirement already satisfied: requests<3,>=2 in /usr/local/lib/python3.11/dist-packages (from langchain_community) (2.32.3)\n",
            "Requirement already satisfied: tenacity!=8.4.0,<10,>=8.1.0 in /usr/local/lib/python3.11/dist-packages (from langchain_community) (9.0.0)\n",
            "Requirement already satisfied: aiohappyeyeballs>=2.3.0 in /usr/local/lib/python3.11/dist-packages (from aiohttp<4.0.0,>=3.8.3->langchain_community) (2.4.4)\n",
            "Requirement already satisfied: aiosignal>=1.1.2 in /usr/local/lib/python3.11/dist-packages (from aiohttp<4.0.0,>=3.8.3->langchain_community) (1.3.2)\n",
            "Requirement already satisfied: attrs>=17.3.0 in /usr/local/lib/python3.11/dist-packages (from aiohttp<4.0.0,>=3.8.3->langchain_community) (25.1.0)\n",
            "Requirement already satisfied: frozenlist>=1.1.1 in /usr/local/lib/python3.11/dist-packages (from aiohttp<4.0.0,>=3.8.3->langchain_community) (1.5.0)\n",
            "Requirement already satisfied: multidict<7.0,>=4.5 in /usr/local/lib/python3.11/dist-packages (from aiohttp<4.0.0,>=3.8.3->langchain_community) (6.1.0)\n",
            "Requirement already satisfied: propcache>=0.2.0 in /usr/local/lib/python3.11/dist-packages (from aiohttp<4.0.0,>=3.8.3->langchain_community) (0.2.1)\n",
            "Requirement already satisfied: yarl<2.0,>=1.17.0 in /usr/local/lib/python3.11/dist-packages (from aiohttp<4.0.0,>=3.8.3->langchain_community) (1.18.3)\n",
            "Collecting marshmallow<4.0.0,>=3.18.0 (from dataclasses-json<0.7,>=0.5.7->langchain_community)\n",
            "  Downloading marshmallow-3.26.0-py3-none-any.whl.metadata (7.3 kB)\n",
            "Collecting typing-inspect<1,>=0.4.0 (from dataclasses-json<0.7,>=0.5.7->langchain_community)\n",
            "  Downloading typing_inspect-0.9.0-py3-none-any.whl.metadata (1.5 kB)\n",
            "Requirement already satisfied: langchain-text-splitters<0.4.0,>=0.3.3 in /usr/local/lib/python3.11/dist-packages (from langchain<0.4.0,>=0.3.16->langchain_community) (0.3.5)\n",
            "Requirement already satisfied: pydantic<3.0.0,>=2.7.4 in /usr/local/lib/python3.11/dist-packages (from langchain<0.4.0,>=0.3.16->langchain_community) (2.10.6)\n",
            "Requirement already satisfied: jsonpatch<2.0,>=1.33 in /usr/local/lib/python3.11/dist-packages (from langchain-core<0.4.0,>=0.3.32->langchain_community) (1.33)\n",
            "Requirement already satisfied: packaging<25,>=23.2 in /usr/local/lib/python3.11/dist-packages (from langchain-core<0.4.0,>=0.3.32->langchain_community) (24.2)\n",
            "Requirement already satisfied: typing-extensions>=4.7 in /usr/local/lib/python3.11/dist-packages (from langchain-core<0.4.0,>=0.3.32->langchain_community) (4.12.2)\n",
            "Requirement already satisfied: httpx<1,>=0.23.0 in /usr/local/lib/python3.11/dist-packages (from langsmith<0.4,>=0.1.125->langchain_community) (0.28.1)\n",
            "Requirement already satisfied: orjson<4.0.0,>=3.9.14 in /usr/local/lib/python3.11/dist-packages (from langsmith<0.4,>=0.1.125->langchain_community) (3.10.15)\n",
            "Requirement already satisfied: requests-toolbelt<2.0.0,>=1.0.0 in /usr/local/lib/python3.11/dist-packages (from langsmith<0.4,>=0.1.125->langchain_community) (1.0.0)\n",
            "Requirement already satisfied: zstandard<0.24.0,>=0.23.0 in /usr/local/lib/python3.11/dist-packages (from langsmith<0.4,>=0.1.125->langchain_community) (0.23.0)\n",
            "Collecting python-dotenv>=0.21.0 (from pydantic-settings<3.0.0,>=2.4.0->langchain_community)\n",
            "  Downloading python_dotenv-1.0.1-py3-none-any.whl.metadata (23 kB)\n",
            "Requirement already satisfied: charset-normalizer<4,>=2 in /usr/local/lib/python3.11/dist-packages (from requests<3,>=2->langchain_community) (3.4.1)\n",
            "Requirement already satisfied: idna<4,>=2.5 in /usr/local/lib/python3.11/dist-packages (from requests<3,>=2->langchain_community) (3.10)\n",
            "Requirement already satisfied: urllib3<3,>=1.21.1 in /usr/local/lib/python3.11/dist-packages (from requests<3,>=2->langchain_community) (2.3.0)\n",
            "Requirement already satisfied: certifi>=2017.4.17 in /usr/local/lib/python3.11/dist-packages (from requests<3,>=2->langchain_community) (2024.12.14)\n",
            "Requirement already satisfied: greenlet!=0.4.17 in /usr/local/lib/python3.11/dist-packages (from SQLAlchemy<3,>=1.4->langchain_community) (3.1.1)\n",
            "Requirement already satisfied: anyio in /usr/local/lib/python3.11/dist-packages (from httpx<1,>=0.23.0->langsmith<0.4,>=0.1.125->langchain_community) (3.7.1)\n",
            "Requirement already satisfied: httpcore==1.* in /usr/local/lib/python3.11/dist-packages (from httpx<1,>=0.23.0->langsmith<0.4,>=0.1.125->langchain_community) (1.0.7)\n",
            "Requirement already satisfied: h11<0.15,>=0.13 in /usr/local/lib/python3.11/dist-packages (from httpcore==1.*->httpx<1,>=0.23.0->langsmith<0.4,>=0.1.125->langchain_community) (0.14.0)\n",
            "Requirement already satisfied: jsonpointer>=1.9 in /usr/local/lib/python3.11/dist-packages (from jsonpatch<2.0,>=1.33->langchain-core<0.4.0,>=0.3.32->langchain_community) (3.0.0)\n",
            "Requirement already satisfied: annotated-types>=0.6.0 in /usr/local/lib/python3.11/dist-packages (from pydantic<3.0.0,>=2.7.4->langchain<0.4.0,>=0.3.16->langchain_community) (0.7.0)\n",
            "Requirement already satisfied: pydantic-core==2.27.2 in /usr/local/lib/python3.11/dist-packages (from pydantic<3.0.0,>=2.7.4->langchain<0.4.0,>=0.3.16->langchain_community) (2.27.2)\n",
            "Collecting mypy-extensions>=0.3.0 (from typing-inspect<1,>=0.4.0->dataclasses-json<0.7,>=0.5.7->langchain_community)\n",
            "  Downloading mypy_extensions-1.0.0-py3-none-any.whl.metadata (1.1 kB)\n",
            "Requirement already satisfied: sniffio>=1.1 in /usr/local/lib/python3.11/dist-packages (from anyio->httpx<1,>=0.23.0->langsmith<0.4,>=0.1.125->langchain_community) (1.3.1)\n",
            "Downloading langchain_community-0.3.16-py3-none-any.whl (2.5 MB)\n",
            "\u001b[2K   \u001b[90m━━━━━━━━━━━━━━━━━━━━━━━━━━━━━━━━━━━━━━━━\u001b[0m \u001b[32m2.5/2.5 MB\u001b[0m \u001b[31m26.8 MB/s\u001b[0m eta \u001b[36m0:00:00\u001b[0m\n",
            "\u001b[?25hDownloading dataclasses_json-0.6.7-py3-none-any.whl (28 kB)\n",
            "Downloading httpx_sse-0.4.0-py3-none-any.whl (7.8 kB)\n",
            "Downloading pydantic_settings-2.7.1-py3-none-any.whl (29 kB)\n",
            "Downloading marshmallow-3.26.0-py3-none-any.whl (50 kB)\n",
            "\u001b[2K   \u001b[90m━━━━━━━━━━━━━━━━━━━━━━━━━━━━━━━━━━━━━━━━\u001b[0m \u001b[32m50.8/50.8 kB\u001b[0m \u001b[31m3.5 MB/s\u001b[0m eta \u001b[36m0:00:00\u001b[0m\n",
            "\u001b[?25hDownloading python_dotenv-1.0.1-py3-none-any.whl (19 kB)\n",
            "Downloading typing_inspect-0.9.0-py3-none-any.whl (8.8 kB)\n",
            "Downloading mypy_extensions-1.0.0-py3-none-any.whl (4.7 kB)\n",
            "Installing collected packages: python-dotenv, mypy-extensions, marshmallow, httpx-sse, typing-inspect, pydantic-settings, dataclasses-json, langchain_community\n",
            "Successfully installed dataclasses-json-0.6.7 httpx-sse-0.4.0 langchain_community-0.3.16 marshmallow-3.26.0 mypy-extensions-1.0.0 pydantic-settings-2.7.1 python-dotenv-1.0.1 typing-inspect-0.9.0\n"
          ]
        }
      ]
    },
    {
      "cell_type": "code",
      "source": [
        "from langchain.chat_models import ChatOpenAI\n",
        "from langchain_core.tools import tool\n",
        "from langgraph.graph import StateGraph, MessagesState, START, END\n",
        "from langgraph.prebuilt import ToolNode\n"
      ],
      "metadata": {
        "id": "p7zf1PtzUJw6"
      },
      "execution_count": 6,
      "outputs": []
    },
    {
      "cell_type": "code",
      "source": [
        "!apt-get install graphviz graphviz-dev # Install Graphviz using apt\n",
        "!pip install pygraphviz"
      ],
      "metadata": {
        "colab": {
          "base_uri": "https://localhost:8080/"
        },
        "id": "Hrb_phkFnuUo",
        "outputId": "184f743b-64bd-4a2f-af7f-da9302c6af03"
      },
      "execution_count": 7,
      "outputs": [
        {
          "output_type": "stream",
          "name": "stdout",
          "text": [
            "Reading package lists... Done\n",
            "Building dependency tree... Done\n",
            "Reading state information... Done\n",
            "Note, selecting 'libgraphviz-dev' instead of 'graphviz-dev'\n",
            "graphviz is already the newest version (2.42.2-6ubuntu0.1).\n",
            "The following additional packages will be installed:\n",
            "  libgail-common libgail18 libgtk2.0-0 libgtk2.0-bin libgtk2.0-common libgvc6-plugins-gtk\n",
            "  librsvg2-common libxdot4\n",
            "Suggested packages:\n",
            "  gvfs\n",
            "The following NEW packages will be installed:\n",
            "  libgail-common libgail18 libgraphviz-dev libgtk2.0-0 libgtk2.0-bin libgtk2.0-common\n",
            "  libgvc6-plugins-gtk librsvg2-common libxdot4\n",
            "0 upgraded, 9 newly installed, 0 to remove and 18 not upgraded.\n",
            "Need to get 2,434 kB of archives.\n",
            "After this operation, 7,681 kB of additional disk space will be used.\n",
            "Get:1 http://archive.ubuntu.com/ubuntu jammy-updates/main amd64 libgtk2.0-common all 2.24.33-2ubuntu2.1 [125 kB]\n",
            "Get:2 http://archive.ubuntu.com/ubuntu jammy-updates/main amd64 libgtk2.0-0 amd64 2.24.33-2ubuntu2.1 [2,038 kB]\n",
            "Get:3 http://archive.ubuntu.com/ubuntu jammy-updates/main amd64 libgail18 amd64 2.24.33-2ubuntu2.1 [15.9 kB]\n",
            "Get:4 http://archive.ubuntu.com/ubuntu jammy-updates/main amd64 libgail-common amd64 2.24.33-2ubuntu2.1 [132 kB]\n",
            "Get:5 http://archive.ubuntu.com/ubuntu jammy-updates/universe amd64 libxdot4 amd64 2.42.2-6ubuntu0.1 [16.4 kB]\n",
            "Get:6 http://archive.ubuntu.com/ubuntu jammy-updates/universe amd64 libgvc6-plugins-gtk amd64 2.42.2-6ubuntu0.1 [22.5 kB]\n",
            "Get:7 http://archive.ubuntu.com/ubuntu jammy-updates/universe amd64 libgraphviz-dev amd64 2.42.2-6ubuntu0.1 [58.5 kB]\n",
            "Get:8 http://archive.ubuntu.com/ubuntu jammy-updates/main amd64 libgtk2.0-bin amd64 2.24.33-2ubuntu2.1 [7,936 B]\n",
            "Get:9 http://archive.ubuntu.com/ubuntu jammy-updates/main amd64 librsvg2-common amd64 2.52.5+dfsg-3ubuntu0.2 [17.7 kB]\n",
            "Fetched 2,434 kB in 1s (1,943 kB/s)\n",
            "Selecting previously unselected package libgtk2.0-common.\n",
            "(Reading database ... 124950 files and directories currently installed.)\n",
            "Preparing to unpack .../0-libgtk2.0-common_2.24.33-2ubuntu2.1_all.deb ...\n",
            "Unpacking libgtk2.0-common (2.24.33-2ubuntu2.1) ...\n",
            "Selecting previously unselected package libgtk2.0-0:amd64.\n",
            "Preparing to unpack .../1-libgtk2.0-0_2.24.33-2ubuntu2.1_amd64.deb ...\n",
            "Unpacking libgtk2.0-0:amd64 (2.24.33-2ubuntu2.1) ...\n",
            "Selecting previously unselected package libgail18:amd64.\n",
            "Preparing to unpack .../2-libgail18_2.24.33-2ubuntu2.1_amd64.deb ...\n",
            "Unpacking libgail18:amd64 (2.24.33-2ubuntu2.1) ...\n",
            "Selecting previously unselected package libgail-common:amd64.\n",
            "Preparing to unpack .../3-libgail-common_2.24.33-2ubuntu2.1_amd64.deb ...\n",
            "Unpacking libgail-common:amd64 (2.24.33-2ubuntu2.1) ...\n",
            "Selecting previously unselected package libxdot4:amd64.\n",
            "Preparing to unpack .../4-libxdot4_2.42.2-6ubuntu0.1_amd64.deb ...\n",
            "Unpacking libxdot4:amd64 (2.42.2-6ubuntu0.1) ...\n",
            "Selecting previously unselected package libgvc6-plugins-gtk.\n",
            "Preparing to unpack .../5-libgvc6-plugins-gtk_2.42.2-6ubuntu0.1_amd64.deb ...\n",
            "Unpacking libgvc6-plugins-gtk (2.42.2-6ubuntu0.1) ...\n",
            "Selecting previously unselected package libgraphviz-dev:amd64.\n",
            "Preparing to unpack .../6-libgraphviz-dev_2.42.2-6ubuntu0.1_amd64.deb ...\n",
            "Unpacking libgraphviz-dev:amd64 (2.42.2-6ubuntu0.1) ...\n",
            "Selecting previously unselected package libgtk2.0-bin.\n",
            "Preparing to unpack .../7-libgtk2.0-bin_2.24.33-2ubuntu2.1_amd64.deb ...\n",
            "Unpacking libgtk2.0-bin (2.24.33-2ubuntu2.1) ...\n",
            "Selecting previously unselected package librsvg2-common:amd64.\n",
            "Preparing to unpack .../8-librsvg2-common_2.52.5+dfsg-3ubuntu0.2_amd64.deb ...\n",
            "Unpacking librsvg2-common:amd64 (2.52.5+dfsg-3ubuntu0.2) ...\n",
            "Setting up libxdot4:amd64 (2.42.2-6ubuntu0.1) ...\n",
            "Setting up librsvg2-common:amd64 (2.52.5+dfsg-3ubuntu0.2) ...\n",
            "Setting up libgtk2.0-common (2.24.33-2ubuntu2.1) ...\n",
            "Setting up libgtk2.0-0:amd64 (2.24.33-2ubuntu2.1) ...\n",
            "Setting up libgvc6-plugins-gtk (2.42.2-6ubuntu0.1) ...\n",
            "Setting up libgail18:amd64 (2.24.33-2ubuntu2.1) ...\n",
            "Setting up libgtk2.0-bin (2.24.33-2ubuntu2.1) ...\n",
            "Setting up libgail-common:amd64 (2.24.33-2ubuntu2.1) ...\n",
            "Setting up libgraphviz-dev:amd64 (2.42.2-6ubuntu0.1) ...\n",
            "Processing triggers for libc-bin (2.35-0ubuntu3.8) ...\n",
            "/sbin/ldconfig.real: /usr/local/lib/libumf.so.0 is not a symbolic link\n",
            "\n",
            "/sbin/ldconfig.real: /usr/local/lib/libtcm.so.1 is not a symbolic link\n",
            "\n",
            "/sbin/ldconfig.real: /usr/local/lib/libur_adapter_opencl.so.0 is not a symbolic link\n",
            "\n",
            "/sbin/ldconfig.real: /usr/local/lib/libtbbbind_2_0.so.3 is not a symbolic link\n",
            "\n",
            "/sbin/ldconfig.real: /usr/local/lib/libtbbbind_2_5.so.3 is not a symbolic link\n",
            "\n",
            "/sbin/ldconfig.real: /usr/local/lib/libtbbmalloc.so.2 is not a symbolic link\n",
            "\n",
            "/sbin/ldconfig.real: /usr/local/lib/libtbbbind.so.3 is not a symbolic link\n",
            "\n",
            "/sbin/ldconfig.real: /usr/local/lib/libur_adapter_level_zero.so.0 is not a symbolic link\n",
            "\n",
            "/sbin/ldconfig.real: /usr/local/lib/libtcm_debug.so.1 is not a symbolic link\n",
            "\n",
            "/sbin/ldconfig.real: /usr/local/lib/libhwloc.so.15 is not a symbolic link\n",
            "\n",
            "/sbin/ldconfig.real: /usr/local/lib/libtbb.so.12 is not a symbolic link\n",
            "\n",
            "/sbin/ldconfig.real: /usr/local/lib/libtbbmalloc_proxy.so.2 is not a symbolic link\n",
            "\n",
            "/sbin/ldconfig.real: /usr/local/lib/libur_loader.so.0 is not a symbolic link\n",
            "\n",
            "Processing triggers for man-db (2.10.2-1) ...\n",
            "Processing triggers for libgdk-pixbuf-2.0-0:amd64 (2.42.8+dfsg-1ubuntu0.3) ...\n",
            "Collecting pygraphviz\n",
            "  Downloading pygraphviz-1.14.tar.gz (106 kB)\n",
            "\u001b[2K     \u001b[90m━━━━━━━━━━━━━━━━━━━━━━━━━━━━━━━━━━━━━━━━\u001b[0m \u001b[32m106.0/106.0 kB\u001b[0m \u001b[31m3.1 MB/s\u001b[0m eta \u001b[36m0:00:00\u001b[0m\n",
            "\u001b[?25h  Installing build dependencies ... \u001b[?25l\u001b[?25hdone\n",
            "  Getting requirements to build wheel ... \u001b[?25l\u001b[?25hdone\n",
            "  Preparing metadata (pyproject.toml) ... \u001b[?25l\u001b[?25hdone\n",
            "Building wheels for collected packages: pygraphviz\n",
            "  Building wheel for pygraphviz (pyproject.toml) ... \u001b[?25l\u001b[?25hdone\n",
            "  Created wheel for pygraphviz: filename=pygraphviz-1.14-cp311-cp311-linux_x86_64.whl size=169681 sha256=32a10a5532f3c2922b3e78170f92066bdb654ca5ad0229d44ecb1bd440305337\n",
            "  Stored in directory: /root/.cache/pip/wheels/9c/5f/df/6fffd2a4353f26dbb0e3672a1baf070c124a1d74a5f9318279\n",
            "Successfully built pygraphviz\n",
            "Installing collected packages: pygraphviz\n",
            "Successfully installed pygraphviz-1.14\n"
          ]
        }
      ]
    },
    {
      "cell_type": "code",
      "source": [
        "!pip install --upgrade langgraph\n",
        "\n"
      ],
      "metadata": {
        "colab": {
          "base_uri": "https://localhost:8080/"
        },
        "id": "tW9JPl8J1AXM",
        "outputId": "64be1aff-1c99-4da2-ae3f-c86b88bc55d2"
      },
      "execution_count": 8,
      "outputs": [
        {
          "output_type": "stream",
          "name": "stdout",
          "text": [
            "Requirement already satisfied: langgraph in /usr/local/lib/python3.11/dist-packages (0.2.69)\n",
            "Requirement already satisfied: langchain-core!=0.3.0,!=0.3.1,!=0.3.10,!=0.3.11,!=0.3.12,!=0.3.13,!=0.3.14,!=0.3.15,!=0.3.16,!=0.3.17,!=0.3.18,!=0.3.19,!=0.3.2,!=0.3.20,!=0.3.21,!=0.3.22,!=0.3.3,!=0.3.4,!=0.3.5,!=0.3.6,!=0.3.7,!=0.3.8,!=0.3.9,<0.4.0,>=0.2.43 in /usr/local/lib/python3.11/dist-packages (from langgraph) (0.3.33)\n",
            "Requirement already satisfied: langgraph-checkpoint<3.0.0,>=2.0.10 in /usr/local/lib/python3.11/dist-packages (from langgraph) (2.0.10)\n",
            "Requirement already satisfied: langgraph-sdk<0.2.0,>=0.1.42 in /usr/local/lib/python3.11/dist-packages (from langgraph) (0.1.51)\n",
            "Requirement already satisfied: PyYAML>=5.3 in /usr/local/lib/python3.11/dist-packages (from langchain-core!=0.3.0,!=0.3.1,!=0.3.10,!=0.3.11,!=0.3.12,!=0.3.13,!=0.3.14,!=0.3.15,!=0.3.16,!=0.3.17,!=0.3.18,!=0.3.19,!=0.3.2,!=0.3.20,!=0.3.21,!=0.3.22,!=0.3.3,!=0.3.4,!=0.3.5,!=0.3.6,!=0.3.7,!=0.3.8,!=0.3.9,<0.4.0,>=0.2.43->langgraph) (6.0.2)\n",
            "Requirement already satisfied: jsonpatch<2.0,>=1.33 in /usr/local/lib/python3.11/dist-packages (from langchain-core!=0.3.0,!=0.3.1,!=0.3.10,!=0.3.11,!=0.3.12,!=0.3.13,!=0.3.14,!=0.3.15,!=0.3.16,!=0.3.17,!=0.3.18,!=0.3.19,!=0.3.2,!=0.3.20,!=0.3.21,!=0.3.22,!=0.3.3,!=0.3.4,!=0.3.5,!=0.3.6,!=0.3.7,!=0.3.8,!=0.3.9,<0.4.0,>=0.2.43->langgraph) (1.33)\n",
            "Requirement already satisfied: langsmith<0.4,>=0.1.125 in /usr/local/lib/python3.11/dist-packages (from langchain-core!=0.3.0,!=0.3.1,!=0.3.10,!=0.3.11,!=0.3.12,!=0.3.13,!=0.3.14,!=0.3.15,!=0.3.16,!=0.3.17,!=0.3.18,!=0.3.19,!=0.3.2,!=0.3.20,!=0.3.21,!=0.3.22,!=0.3.3,!=0.3.4,!=0.3.5,!=0.3.6,!=0.3.7,!=0.3.8,!=0.3.9,<0.4.0,>=0.2.43->langgraph) (0.3.2)\n",
            "Requirement already satisfied: packaging<25,>=23.2 in /usr/local/lib/python3.11/dist-packages (from langchain-core!=0.3.0,!=0.3.1,!=0.3.10,!=0.3.11,!=0.3.12,!=0.3.13,!=0.3.14,!=0.3.15,!=0.3.16,!=0.3.17,!=0.3.18,!=0.3.19,!=0.3.2,!=0.3.20,!=0.3.21,!=0.3.22,!=0.3.3,!=0.3.4,!=0.3.5,!=0.3.6,!=0.3.7,!=0.3.8,!=0.3.9,<0.4.0,>=0.2.43->langgraph) (24.2)\n",
            "Requirement already satisfied: pydantic<3.0.0,>=2.5.2 in /usr/local/lib/python3.11/dist-packages (from langchain-core!=0.3.0,!=0.3.1,!=0.3.10,!=0.3.11,!=0.3.12,!=0.3.13,!=0.3.14,!=0.3.15,!=0.3.16,!=0.3.17,!=0.3.18,!=0.3.19,!=0.3.2,!=0.3.20,!=0.3.21,!=0.3.22,!=0.3.3,!=0.3.4,!=0.3.5,!=0.3.6,!=0.3.7,!=0.3.8,!=0.3.9,<0.4.0,>=0.2.43->langgraph) (2.10.6)\n",
            "Requirement already satisfied: tenacity!=8.4.0,<10.0.0,>=8.1.0 in /usr/local/lib/python3.11/dist-packages (from langchain-core!=0.3.0,!=0.3.1,!=0.3.10,!=0.3.11,!=0.3.12,!=0.3.13,!=0.3.14,!=0.3.15,!=0.3.16,!=0.3.17,!=0.3.18,!=0.3.19,!=0.3.2,!=0.3.20,!=0.3.21,!=0.3.22,!=0.3.3,!=0.3.4,!=0.3.5,!=0.3.6,!=0.3.7,!=0.3.8,!=0.3.9,<0.4.0,>=0.2.43->langgraph) (9.0.0)\n",
            "Requirement already satisfied: typing-extensions>=4.7 in /usr/local/lib/python3.11/dist-packages (from langchain-core!=0.3.0,!=0.3.1,!=0.3.10,!=0.3.11,!=0.3.12,!=0.3.13,!=0.3.14,!=0.3.15,!=0.3.16,!=0.3.17,!=0.3.18,!=0.3.19,!=0.3.2,!=0.3.20,!=0.3.21,!=0.3.22,!=0.3.3,!=0.3.4,!=0.3.5,!=0.3.6,!=0.3.7,!=0.3.8,!=0.3.9,<0.4.0,>=0.2.43->langgraph) (4.12.2)\n",
            "Requirement already satisfied: msgpack<2.0.0,>=1.1.0 in /usr/local/lib/python3.11/dist-packages (from langgraph-checkpoint<3.0.0,>=2.0.10->langgraph) (1.1.0)\n",
            "Requirement already satisfied: httpx>=0.25.2 in /usr/local/lib/python3.11/dist-packages (from langgraph-sdk<0.2.0,>=0.1.42->langgraph) (0.28.1)\n",
            "Requirement already satisfied: orjson>=3.10.1 in /usr/local/lib/python3.11/dist-packages (from langgraph-sdk<0.2.0,>=0.1.42->langgraph) (3.10.15)\n",
            "Requirement already satisfied: anyio in /usr/local/lib/python3.11/dist-packages (from httpx>=0.25.2->langgraph-sdk<0.2.0,>=0.1.42->langgraph) (3.7.1)\n",
            "Requirement already satisfied: certifi in /usr/local/lib/python3.11/dist-packages (from httpx>=0.25.2->langgraph-sdk<0.2.0,>=0.1.42->langgraph) (2024.12.14)\n",
            "Requirement already satisfied: httpcore==1.* in /usr/local/lib/python3.11/dist-packages (from httpx>=0.25.2->langgraph-sdk<0.2.0,>=0.1.42->langgraph) (1.0.7)\n",
            "Requirement already satisfied: idna in /usr/local/lib/python3.11/dist-packages (from httpx>=0.25.2->langgraph-sdk<0.2.0,>=0.1.42->langgraph) (3.10)\n",
            "Requirement already satisfied: h11<0.15,>=0.13 in /usr/local/lib/python3.11/dist-packages (from httpcore==1.*->httpx>=0.25.2->langgraph-sdk<0.2.0,>=0.1.42->langgraph) (0.14.0)\n",
            "Requirement already satisfied: jsonpointer>=1.9 in /usr/local/lib/python3.11/dist-packages (from jsonpatch<2.0,>=1.33->langchain-core!=0.3.0,!=0.3.1,!=0.3.10,!=0.3.11,!=0.3.12,!=0.3.13,!=0.3.14,!=0.3.15,!=0.3.16,!=0.3.17,!=0.3.18,!=0.3.19,!=0.3.2,!=0.3.20,!=0.3.21,!=0.3.22,!=0.3.3,!=0.3.4,!=0.3.5,!=0.3.6,!=0.3.7,!=0.3.8,!=0.3.9,<0.4.0,>=0.2.43->langgraph) (3.0.0)\n",
            "Requirement already satisfied: requests<3,>=2 in /usr/local/lib/python3.11/dist-packages (from langsmith<0.4,>=0.1.125->langchain-core!=0.3.0,!=0.3.1,!=0.3.10,!=0.3.11,!=0.3.12,!=0.3.13,!=0.3.14,!=0.3.15,!=0.3.16,!=0.3.17,!=0.3.18,!=0.3.19,!=0.3.2,!=0.3.20,!=0.3.21,!=0.3.22,!=0.3.3,!=0.3.4,!=0.3.5,!=0.3.6,!=0.3.7,!=0.3.8,!=0.3.9,<0.4.0,>=0.2.43->langgraph) (2.32.3)\n",
            "Requirement already satisfied: requests-toolbelt<2.0.0,>=1.0.0 in /usr/local/lib/python3.11/dist-packages (from langsmith<0.4,>=0.1.125->langchain-core!=0.3.0,!=0.3.1,!=0.3.10,!=0.3.11,!=0.3.12,!=0.3.13,!=0.3.14,!=0.3.15,!=0.3.16,!=0.3.17,!=0.3.18,!=0.3.19,!=0.3.2,!=0.3.20,!=0.3.21,!=0.3.22,!=0.3.3,!=0.3.4,!=0.3.5,!=0.3.6,!=0.3.7,!=0.3.8,!=0.3.9,<0.4.0,>=0.2.43->langgraph) (1.0.0)\n",
            "Requirement already satisfied: zstandard<0.24.0,>=0.23.0 in /usr/local/lib/python3.11/dist-packages (from langsmith<0.4,>=0.1.125->langchain-core!=0.3.0,!=0.3.1,!=0.3.10,!=0.3.11,!=0.3.12,!=0.3.13,!=0.3.14,!=0.3.15,!=0.3.16,!=0.3.17,!=0.3.18,!=0.3.19,!=0.3.2,!=0.3.20,!=0.3.21,!=0.3.22,!=0.3.3,!=0.3.4,!=0.3.5,!=0.3.6,!=0.3.7,!=0.3.8,!=0.3.9,<0.4.0,>=0.2.43->langgraph) (0.23.0)\n",
            "Requirement already satisfied: annotated-types>=0.6.0 in /usr/local/lib/python3.11/dist-packages (from pydantic<3.0.0,>=2.5.2->langchain-core!=0.3.0,!=0.3.1,!=0.3.10,!=0.3.11,!=0.3.12,!=0.3.13,!=0.3.14,!=0.3.15,!=0.3.16,!=0.3.17,!=0.3.18,!=0.3.19,!=0.3.2,!=0.3.20,!=0.3.21,!=0.3.22,!=0.3.3,!=0.3.4,!=0.3.5,!=0.3.6,!=0.3.7,!=0.3.8,!=0.3.9,<0.4.0,>=0.2.43->langgraph) (0.7.0)\n",
            "Requirement already satisfied: pydantic-core==2.27.2 in /usr/local/lib/python3.11/dist-packages (from pydantic<3.0.0,>=2.5.2->langchain-core!=0.3.0,!=0.3.1,!=0.3.10,!=0.3.11,!=0.3.12,!=0.3.13,!=0.3.14,!=0.3.15,!=0.3.16,!=0.3.17,!=0.3.18,!=0.3.19,!=0.3.2,!=0.3.20,!=0.3.21,!=0.3.22,!=0.3.3,!=0.3.4,!=0.3.5,!=0.3.6,!=0.3.7,!=0.3.8,!=0.3.9,<0.4.0,>=0.2.43->langgraph) (2.27.2)\n",
            "Requirement already satisfied: charset-normalizer<4,>=2 in /usr/local/lib/python3.11/dist-packages (from requests<3,>=2->langsmith<0.4,>=0.1.125->langchain-core!=0.3.0,!=0.3.1,!=0.3.10,!=0.3.11,!=0.3.12,!=0.3.13,!=0.3.14,!=0.3.15,!=0.3.16,!=0.3.17,!=0.3.18,!=0.3.19,!=0.3.2,!=0.3.20,!=0.3.21,!=0.3.22,!=0.3.3,!=0.3.4,!=0.3.5,!=0.3.6,!=0.3.7,!=0.3.8,!=0.3.9,<0.4.0,>=0.2.43->langgraph) (3.4.1)\n",
            "Requirement already satisfied: urllib3<3,>=1.21.1 in /usr/local/lib/python3.11/dist-packages (from requests<3,>=2->langsmith<0.4,>=0.1.125->langchain-core!=0.3.0,!=0.3.1,!=0.3.10,!=0.3.11,!=0.3.12,!=0.3.13,!=0.3.14,!=0.3.15,!=0.3.16,!=0.3.17,!=0.3.18,!=0.3.19,!=0.3.2,!=0.3.20,!=0.3.21,!=0.3.22,!=0.3.3,!=0.3.4,!=0.3.5,!=0.3.6,!=0.3.7,!=0.3.8,!=0.3.9,<0.4.0,>=0.2.43->langgraph) (2.3.0)\n",
            "Requirement already satisfied: sniffio>=1.1 in /usr/local/lib/python3.11/dist-packages (from anyio->httpx>=0.25.2->langgraph-sdk<0.2.0,>=0.1.42->langgraph) (1.3.1)\n"
          ]
        }
      ]
    },
    {
      "cell_type": "markdown",
      "source": [
        "# Iteration 3"
      ],
      "metadata": {
        "id": "xwWUTN7twsau"
      }
    },
    {
      "cell_type": "code",
      "source": [
        "\n",
        "import pandas as pd\n",
        "\n",
        "# Define the Imagenow Tool\n",
        "@tool\n",
        "def imagenow_tool(invoice_id: str):\n",
        "    \"\"\"Check payment status in Imagenow.\"\"\"\n",
        "\n",
        "    # Load the Imagenow dataset\n",
        "    imagenow_file_path = \"/content/image_now_modified.xlsx\"  # Replace with actual file path\n",
        "    imagenow_df = pd.read_excel(imagenow_file_path)\n",
        "\n",
        "    # Find the corresponding row based on the invoice_id\n",
        "    invoice_data = imagenow_df[imagenow_df[\"Invoice Number\"] == invoice_id]\n",
        "\n",
        "    # If the invoice is found, return the status\n",
        "    if not invoice_data.empty:\n",
        "        payment_status = invoice_data.iloc[0][\"Status\"]\n",
        "        return {\n",
        "            \"status\": payment_status\n",
        "        }\n",
        "    else:\n",
        "        return {\"error\": f\"Invoice {invoice_id} not found.\"}\n",
        "\n",
        "# Define the Lawson Tool\n",
        "@tool\n",
        "def lawson_tool(invoice_id: str):\n",
        "    \"\"\"Fetch payment details from Lawson based on the invoice ID.\"\"\"\n",
        "\n",
        "    # Load the Lawson dataset\n",
        "    lawson_file_path = \"/content/lawson_modified.xlsx\"  # Replace with actual file path\n",
        "    lawson_df = pd.read_excel(lawson_file_path)\n",
        "\n",
        "    # Find the corresponding row based on the invoice_id\n",
        "    invoice_data = lawson_df[lawson_df[\"Invoice ID\"] == invoice_id]\n",
        "\n",
        "    # If the invoice is found, return the relevant payment details\n",
        "    if not invoice_data.empty:\n",
        "        payment_method = invoice_data.iloc[0][\"Payment Method\"]\n",
        "        payment_date = invoice_data.iloc[0][\"Payment Date\"]\n",
        "        exception_status = invoice_data.iloc[0][\"Exception Status\"]\n",
        "        return {\n",
        "            \"payment_method\": payment_method,\n",
        "            \"payment_date\": payment_date,\n",
        "            \"exception_status\": exception_status,\n",
        "        }\n",
        "    else:\n",
        "        return {\"error\": f\"Invoice {invoice_id} not found.\"}\n",
        "\n",
        "# Define the Ivalua Tool\n",
        "@tool\n",
        "def ivalua_tool(invoice_id: str):\n",
        "    \"\"\"Check transmission status in Ivalua based on the invoice ID.\"\"\"\n",
        "\n",
        "    # Load the Ivalua dataset\n",
        "    ivalua_file_path = \"/content/ivalua_dataset.xlsx\"  # Replace with the actual file path\n",
        "    ivalua_df = pd.read_excel(ivalua_file_path)\n",
        "\n",
        "    # Lookup the transmission and exception status for the given invoice\n",
        "    invoice_row = ivalua_df[ivalua_df[\"Invoice Number\"] == invoice_id]\n",
        "\n",
        "    # If the invoice is found, return transmission and exception status\n",
        "    if not invoice_row.empty:\n",
        "        transmission_status = invoice_row.iloc[0][\"Transmission Status\"]\n",
        "        exception_status = invoice_row.iloc[0][\"Exception status\"]\n",
        "        return {\n",
        "            \"transmission_status\": transmission_status,\n",
        "            \"exception_status\": exception_status\n",
        "        }\n",
        "    else:\n",
        "        return {\"error\": f\"Invoice {invoice_id} not found in Ivalua.\"}\n",
        "\n",
        "# Define the Email Tool\n",
        "@tool\n",
        "def email_tool(recipient: str, message: str):\n",
        "    \"\"\"Send an email to the vendor or team.\"\"\"\n",
        "    return {\"email_status\": \"Sent\"}\n",
        "\n",
        "# List of tools\n",
        "tools = [imagenow_tool, lawson_tool, ivalua_tool, email_tool]\n",
        "\n",
        "# Initialize the LLM and bind the tools\n",
        "\n"
      ],
      "metadata": {
        "id": "YZm5f2d668D9"
      },
      "execution_count": 9,
      "outputs": []
    },
    {
      "cell_type": "code",
      "source": [
        "from typing import Annotated, Sequence, TypedDict\n",
        "from langchain_core.messages import BaseMessage\n",
        "from langgraph.graph.message import add_messages\n",
        "\n",
        "class AgentState(TypedDict):\n",
        "    \"\"\"The state of the agent.\"\"\"\n",
        "    messages: Annotated[Sequence[BaseMessage], add_messages]  # Reducer for messages"
      ],
      "metadata": {
        "id": "oUnXymuhy6Zd"
      },
      "execution_count": 17,
      "outputs": []
    },
    {
      "cell_type": "code",
      "source": [
        "import json\n",
        "from langchain_core.messages import ToolMessage\n",
        "\n",
        "# Create a mapping of tools by name\n",
        "tools_by_name = {tool.name: tool for tool in tools}\n",
        "\n",
        "# Tool node for processing tool calls\n",
        "def tool_node(state: AgentState):\n",
        "    outputs = []\n",
        "    for tool_call in state[\"messages\"][-1].tool_calls:\n",
        "        tool_result = tools_by_name[tool_call[\"name\"]].invoke(tool_call[\"args\"])\n",
        "        outputs.append(\n",
        "            ToolMessage(\n",
        "                content=json.dumps(tool_result),\n",
        "                name=tool_call[\"name\"],\n",
        "                tool_call_id=tool_call[\"id\"],\n",
        "            )\n",
        "        )\n",
        "    return {\"messages\": outputs}"
      ],
      "metadata": {
        "id": "MNKyRN4kzuqz"
      },
      "execution_count": 11,
      "outputs": []
    },
    {
      "cell_type": "code",
      "source": [
        "import json\n",
        "from langchain_core.messages import ToolMessage\n",
        "\n",
        "# Create a mapping of tools by name\n",
        "tools_by_name = {tool.name: tool for tool in tools}\n",
        "def tool_node(state: AgentState):\n",
        "    outputs = []\n",
        "    for tool_call in state[\"messages\"][-1].tool_calls:\n",
        "        tool_result = tools_by_name[tool_call[\"name\"]].invoke(tool_call[\"args\"])\n",
        "\n",
        "        # Convert Timestamp objects to strings before serialization\n",
        "        for key, value in tool_result.items():\n",
        "            if isinstance(value, pd.Timestamp):\n",
        "                tool_result[key] = value.isoformat()  # Convert to ISO format string\n",
        "\n",
        "        outputs.append(\n",
        "            ToolMessage(\n",
        "                content=json.dumps(tool_result),\n",
        "                name=tool_call[\"name\"],\n",
        "                tool_call_id=tool_call[\"id\"],\n",
        "            )\n",
        "        )\n",
        "    return {\"messages\": outputs}"
      ],
      "metadata": {
        "id": "UHhCnp9d7pR7"
      },
      "execution_count": 12,
      "outputs": []
    },
    {
      "cell_type": "code",
      "source": [
        "from langchain_openai import ChatOpenAI\n",
        "from langchain_core.messages import SystemMessage\n",
        "from langchain_core.runnables import RunnableConfig\n",
        "\n",
        "# Define the workflow steps\n",
        "steps_prompt = \"\"\"\n",
        "You are an AI orchestrator for the Payment Inquiry workflow. Follow these steps to process the query:\n",
        "\n",
        "1. Check the payment status in Imagenow using the invoice ID.\n",
        "2. If the status is \"Paid\":\n",
        "   - Fetch payment details (method and date) from Lawson.\n",
        "   - Respond to the vendor with the payment details.\n",
        "   - Update the notes in Imagenow.\n",
        "3. If the status is \"Not Paid\":\n",
        "   - Determine whether the PO is a 10-digit or 11-digit number.\n",
        "   - For an 11-digit PO:\n",
        "       - Check transmission status in Ivalua.\n",
        "       - If not transmitted, notify the appropriate person and update the notes.\n",
        "       - If transmitted, check exception status in Lawson.\n",
        "   - For a 10-digit PO:\n",
        "       - Check exception status in Lawson.\n",
        "       - Notify the appropriate person based on the exception status.\n",
        "4. At each step, use the appropriate tool and reason about the next action based on the tool's result.\n",
        "\"\"\"\n",
        "\n",
        "# Initialize the LLM and bind tools\n",
        "model1 = ChatOpenAI(model=\"gpt-4\", temperature=0).bind_tools(tools)\n",
        "\n",
        "# Define the LLM node\n",
        "def call_model(state: AgentState, config: RunnableConfig):\n",
        "    # Combine the steps prompt with the original system message\n",
        "    system_prompt = SystemMessage(\n",
        "        content=f\"{steps_prompt}\\n\\nYou are a workflow orchestrator for Payment Inquiry. Decide which tool to use or provide a final answer based on the query.\"\n",
        "    )\n",
        "    response = model1.invoke([system_prompt] + state[\"messages\"], config)\n",
        "    return {\"messages\": [response]}"
      ],
      "metadata": {
        "id": "yHjCSTdOzx8T"
      },
      "execution_count": 13,
      "outputs": []
    },
    {
      "cell_type": "code",
      "source": [
        "def should_continue(state: AgentState):\n",
        "    messages = state[\"messages\"]\n",
        "    last_message = messages[-1]\n",
        "\n",
        "    # Continue if there are pending tool calls\n",
        "    if last_message.tool_calls:\n",
        "        return \"tools\"\n",
        "    return \"end\""
      ],
      "metadata": {
        "id": "oyzUjP2Cz12Z"
      },
      "execution_count": 14,
      "outputs": []
    },
    {
      "cell_type": "code",
      "source": [
        "# ipython-input-48-22d05b2e512c\n",
        "from langgraph.graph import StateGraph, END\n",
        "\n",
        "# Initialize the StateGraph\n",
        "workflow = StateGraph(AgentState)\n",
        "\n",
        "# Add nodes\n",
        "workflow.add_node(\"agent\", call_model)\n",
        "workflow.add_node(\"tools\", tool_node)\n",
        "\n",
        "# Set entry point\n",
        "workflow.set_entry_point(\"agent\")\n",
        "\n",
        "# Add conditional edges, use 'tools' instead of 'continue'\n",
        "workflow.add_conditional_edges(\"agent\", should_continue, {\"tools\": \"tools\", \"end\": END})\n",
        "\n",
        "# Add edge from tools back to agent\n",
        "workflow.add_edge(\"tools\", \"agent\")\n",
        "# Compile the workflow\n",
        "graph1 = workflow.compile()"
      ],
      "metadata": {
        "id": "e-lSVX7Pz4w1"
      },
      "execution_count": 15,
      "outputs": []
    },
    {
      "cell_type": "code",
      "source": [
        "from IPython.display import Image\n",
        "\n",
        "# Assuming `graph.get_graph()` provides a graph object and `.draw_png()` generates a PNG image\n",
        "# Visualize the graph in a Jupyter notebook\n",
        "Image(app.get_graph().draw_png())"
      ],
      "metadata": {
        "colab": {
          "base_uri": "https://localhost:8080/",
          "height": 364
        },
        "id": "kbEPB-9dn4EX",
        "outputId": "3a9dec5d-1517-41f1-9884-0bfb95ee5eaa"
      },
      "execution_count": null,
      "outputs": [
        {
          "output_type": "execute_result",
          "data": {
            "image/png": "[encoded data removed]",
            "text/plain": [
              "<IPython.core.display.Image object>"
            ]
          },
          "metadata": {},
          "execution_count": 29
        }
      ]
    },
    {
      "cell_type": "code",
      "source": [
        "import time\n",
        "\n",
        "# Helper function for formatting the output stream\n",
        "def print_stream(stream):\n",
        "    for s in stream:\n",
        "        message = s[\"messages\"][-1]\n",
        "        if isinstance(message, tuple):\n",
        "            print(message)\n",
        "        else:\n",
        "            message.pretty_print()\n",
        "\n",
        "# Define user query\n",
        "inputs = {\"messages\": [(\"user\", \"Check the payment status of invoice INV-0003.PO number is 77649657916\")]}\n",
        "\n",
        "# Start timing the execution\n",
        "start_time = time.time()\n",
        "\n",
        "# Execute the workflow and print the output stream\n",
        "print_stream(graph1.stream(inputs, stream_mode=\"values\"))\n",
        "\n",
        "# End timing and calculate the execution time\n",
        "end_time = time.time()\n",
        "execution_time = end_time - start_time\n",
        "\n",
        "# Print the execution time\n",
        "print(f\"Execution Time: {execution_time} seconds\")\n"
      ],
      "metadata": {
        "colab": {
          "base_uri": "https://localhost:8080/"
        },
        "id": "DFVEVSM9z7l1",
        "outputId": "a9e64d87-a1d5-48e7-fefc-750e3f7f6f76"
      },
      "execution_count": 16,
      "outputs": [
        {
          "output_type": "stream",
          "name": "stdout",
          "text": [
            "================================\u001b[1m Human Message \u001b[0m=================================\n",
            "\n",
            "Check the payment status of invoice INV-0003.PO number is 77649657916\n",
            "==================================\u001b[1m Ai Message \u001b[0m==================================\n",
            "Tool Calls:\n",
            "  imagenow_tool (call_YB0UA9xMtAYzeuXTQREeQTs8)\n",
            " Call ID: call_YB0UA9xMtAYzeuXTQREeQTs8\n",
            "  Args:\n",
            "    invoice_id: INV-0003\n",
            "=================================\u001b[1m Tool Message \u001b[0m=================================\n",
            "Name: imagenow_tool\n",
            "\n",
            "{\"status\": \"Not Paid\"}\n",
            "==================================\u001b[1m Ai Message \u001b[0m==================================\n",
            "\n",
            "The PO number is an 11-digit number. Let's check the transmission status in Ivalua.\n",
            "Tool Calls:\n",
            "  ivalua_tool (call_6BbC8cwZURkCBhe1JwJuoc0d)\n",
            " Call ID: call_6BbC8cwZURkCBhe1JwJuoc0d\n",
            "  Args:\n",
            "    invoice_id: INV-0003\n",
            "=================================\u001b[1m Tool Message \u001b[0m=================================\n",
            "Name: ivalua_tool\n",
            "\n",
            "{\"transmission_status\": \"Not Transmitted\", \"exception_status\": \"MA126\"}\n",
            "==================================\u001b[1m Ai Message \u001b[0m==================================\n",
            "\n",
            "The invoice has not been transmitted. I will notify the appropriate person and update the notes.\n",
            "Tool Calls:\n",
            "  email_tool (call_SzIpbVYQn5Kx2YuBM2xRhE3z)\n",
            " Call ID: call_SzIpbVYQn5Kx2YuBM2xRhE3z\n",
            "  Args:\n",
            "    recipient: appropriate_person@example.com\n",
            "    message: The invoice with ID INV-0003 has not been transmitted. The exception status is MA126. Please check and take necessary action.\n",
            "=================================\u001b[1m Tool Message \u001b[0m=================================\n",
            "Name: email_tool\n",
            "\n",
            "{\"email_status\": \"Sent\"}\n",
            "==================================\u001b[1m Ai Message \u001b[0m==================================\n",
            "\n",
            "The notification has been sent to the appropriate person. Now, I will update the notes in Imagenow.\n",
            "Execution Time: 14.943323373794556 seconds\n"
          ]
        }
      ]
    },
    {
      "cell_type": "code",
      "source": [
        "# Helper function for formatting the output stream\n",
        "def print_stream(stream):\n",
        "    for s in stream:\n",
        "        message = s[\"messages\"][-1]\n",
        "        if isinstance(message, tuple):\n",
        "            print(message)\n",
        "        else:\n",
        "            message.pretty_print()\n",
        "\n",
        "# Define user query\n",
        "inputs = {\"messages\": [(\"user\", \"Check the payment status of invoice INV-0002.PO number is 8752760620\")]}\n",
        "\n",
        "# Execute the workflow\n",
        "print_stream(graph.stream(inputs, stream_mode=\"values\"))"
      ],
      "metadata": {
        "colab": {
          "base_uri": "https://localhost:8080/"
        },
        "id": "uK6uSEO10Hni",
        "outputId": "c735abff-6951-4e86-f8f3-bb28aa7d409f"
      },
      "execution_count": null,
      "outputs": [
        {
          "output_type": "stream",
          "name": "stdout",
          "text": [
            "================================\u001b[1m Human Message \u001b[0m=================================\n",
            "\n",
            "Check the payment status of invoice INV-0002.PO number is 8752760620\n",
            "==================================\u001b[1m Ai Message \u001b[0m==================================\n",
            "Tool Calls:\n",
            "  imagenow_tool (call_PFpBqUbcAl47eXXWKdQyRkzm)\n",
            " Call ID: call_PFpBqUbcAl47eXXWKdQyRkzm\n",
            "  Args:\n",
            "    invoice_id: INV-0002\n",
            "=================================\u001b[1m Tool Message \u001b[0m=================================\n",
            "Name: imagenow_tool\n",
            "\n",
            "{\"status\": \"Not Paid\"}\n",
            "==================================\u001b[1m Ai Message \u001b[0m==================================\n",
            "\n",
            "The PO number is a 10-digit number. Let's check the exception status in Lawson.\n",
            "Tool Calls:\n",
            "  lawson_tool (call_dfujxYyCRICfQYsxuvWlGLcv)\n",
            " Call ID: call_dfujxYyCRICfQYsxuvWlGLcv\n",
            "  Args:\n",
            "    invoice_id: INV-0002\n",
            "=================================\u001b[1m Tool Message \u001b[0m=================================\n",
            "Name: lawson_tool\n",
            "\n",
            "{\"payment_method\": \"Check\", \"payment_date\": \"2019-05-01T00:00:00\", \"exception_status\": \"AP90\"}\n",
            "==================================\u001b[1m Ai Message \u001b[0m==================================\n",
            "\n",
            "The exception status is AP90. I will notify the appropriate person based on this exception status.\n",
            "Tool Calls:\n",
            "  email_tool (call_ILkxkxngBiMyS3s3UTvy1xG0)\n",
            " Call ID: call_ILkxkxngBiMyS3s3UTvy1xG0\n",
            "  Args:\n",
            "    recipient: apteam@company.com\n",
            "    message: The payment for invoice INV-0002 with PO number 8752760620 has an exception status of AP90. Please review and take necessary action.\n",
            "=================================\u001b[1m Tool Message \u001b[0m=================================\n",
            "Name: email_tool\n",
            "\n",
            "{\"email_status\": \"Sent\"}\n",
            "==================================\u001b[1m Ai Message \u001b[0m==================================\n",
            "\n",
            "The notification about the exception status has been sent to the appropriate team. They will review and take the necessary action.\n"
          ]
        }
      ]
    },
    {
      "cell_type": "code",
      "source": [
        "# Helper function for formatting the output stream\n",
        "def print_stream(stream):\n",
        "    for s in stream:\n",
        "        message = s[\"messages\"][-1]\n",
        "        if isinstance(message, tuple):\n",
        "            print(message)\n",
        "        else:\n",
        "            message.pretty_print()\n",
        "\n",
        "# Define user query\n",
        "inputs = {\"messages\": [(\"user\", \"Check the payment status of invoice INV-0016.PO number is 21185544688\")]}\n",
        "\n",
        "# Execute the workflow\n",
        "print_stream(graph.stream(inputs, stream_mode=\"values\"))"
      ],
      "metadata": {
        "colab": {
          "base_uri": "https://localhost:8080/"
        },
        "id": "Lbaiwezo4lUU",
        "outputId": "f9545039-e012-4132-bb16-242a6a3b39bb"
      },
      "execution_count": null,
      "outputs": [
        {
          "output_type": "stream",
          "name": "stdout",
          "text": [
            "================================\u001b[1m Human Message \u001b[0m=================================\n",
            "\n",
            "Check the payment status of invoice INV-0016.PO number is 21185544688\n",
            "==================================\u001b[1m Ai Message \u001b[0m==================================\n",
            "Tool Calls:\n",
            "  imagenow_tool (call_ctswNNlbyOxS33SNvyfT1uL8)\n",
            " Call ID: call_ctswNNlbyOxS33SNvyfT1uL8\n",
            "  Args:\n",
            "    invoice_id: INV-0016\n",
            "=================================\u001b[1m Tool Message \u001b[0m=================================\n",
            "Name: imagenow_tool\n",
            "\n",
            "{\"status\": \"Not Paid\"}\n",
            "==================================\u001b[1m Ai Message \u001b[0m==================================\n",
            "\n",
            "The PO number is an 11-digit number. Let's check the transmission status in Ivalua.\n",
            "Tool Calls:\n",
            "  ivalua_tool (call_bDguK7xSZNU6MPOeCYi65Bto)\n",
            " Call ID: call_bDguK7xSZNU6MPOeCYi65Bto\n",
            "  Args:\n",
            "    invoice_id: INV-0016\n",
            "=================================\u001b[1m Tool Message \u001b[0m=================================\n",
            "Name: ivalua_tool\n",
            "\n",
            "{\"transmission_status\": \"Not Transmitted\", \"exception_status\": \"MA126\"}\n",
            "==================================\u001b[1m Ai Message \u001b[0m==================================\n",
            "\n",
            "The invoice has not been transmitted. I will notify the appropriate person and update the notes.\n",
            "Tool Calls:\n",
            "  email_tool (call_5gRNa5jZNeeplBrzLFRTmmMG)\n",
            " Call ID: call_5gRNa5jZNeeplBrzLFRTmmMG\n",
            "  Args:\n",
            "    recipient: procurement@company.com\n",
            "    message: The invoice INV-0016 with PO number 21185544688 has not been transmitted. The exception status is MA126. Please check and resolve the issue.\n",
            "=================================\u001b[1m Tool Message \u001b[0m=================================\n",
            "Name: email_tool\n",
            "\n",
            "{\"email_status\": \"Sent\"}\n",
            "==================================\u001b[1m Ai Message \u001b[0m==================================\n",
            "\n",
            "The notification has been sent to the procurement team regarding the transmission status of the invoice. The notes in Imagenow will be updated accordingly.\n"
          ]
        }
      ]
    },
    {
      "cell_type": "code",
      "source": [
        "# Helper function for formatting the output stream\n",
        "def print_stream(stream):\n",
        "    for s in stream:\n",
        "        message = s[\"messages\"][-1]\n",
        "        if isinstance(message, tuple):\n",
        "            print(message)\n",
        "        else:\n",
        "            message.pretty_print()\n",
        "\n",
        "# Define user query\n",
        "inputs = {\"messages\": [(\"user\", \"Check the payment status of invoice INV-0001.PO number is 47687632524\")]}\n",
        "\n",
        "# Execute the workflow\n",
        "print_stream(graph.stream(inputs, stream_mode=\"values\"))"
      ],
      "metadata": {
        "colab": {
          "base_uri": "https://localhost:8080/"
        },
        "id": "Da5K8XqaUWMC",
        "outputId": "96fffefd-e936-4fb4-deda-59a038c0062b"
      },
      "execution_count": null,
      "outputs": [
        {
          "output_type": "stream",
          "name": "stdout",
          "text": [
            "================================\u001b[1m Human Message \u001b[0m=================================\n",
            "\n",
            "Check the payment status of invoice INV-0001.PO number is 47687632524\n",
            "==================================\u001b[1m Ai Message \u001b[0m==================================\n",
            "Tool Calls:\n",
            "  imagenow_tool (call_v6I9gIAoED7cK0eHyVLCO7XQ)\n",
            " Call ID: call_v6I9gIAoED7cK0eHyVLCO7XQ\n",
            "  Args:\n",
            "    invoice_id: INV-0001\n",
            "=================================\u001b[1m Tool Message \u001b[0m=================================\n",
            "Name: imagenow_tool\n",
            "\n",
            "{\"status\": \"Paid\"}\n",
            "==================================\u001b[1m Ai Message \u001b[0m==================================\n",
            "Tool Calls:\n",
            "  lawson_tool (call_bzuD4ALpP4osaXeQysy81uBc)\n",
            " Call ID: call_bzuD4ALpP4osaXeQysy81uBc\n",
            "  Args:\n",
            "    invoice_id: INV-0001\n",
            "=================================\u001b[1m Tool Message \u001b[0m=================================\n",
            "Name: lawson_tool\n",
            "\n",
            "{\"payment_method\": \"check\", \"payment_date\": \"2020-01-12T00:00:00\", \"exception_status\": NaN}\n",
            "==================================\u001b[1m Ai Message \u001b[0m==================================\n",
            "Tool Calls:\n",
            "  email_tool (call_p4d9B0vLhZxZTXgxYRm73hwj)\n",
            " Call ID: call_p4d9B0vLhZxZTXgxYRm73hwj\n",
            "  Args:\n",
            "    recipient: vendor\n",
            "    message: The payment for invoice INV-0001 was made by check on 2020-01-12.\n",
            "=================================\u001b[1m Tool Message \u001b[0m=================================\n",
            "Name: email_tool\n",
            "\n",
            "{\"email_status\": \"Sent\"}\n",
            "==================================\u001b[1m Ai Message \u001b[0m==================================\n",
            "\n",
            "The payment for invoice INV-0001 was made by check on 2020-01-12. The information has been sent to the vendor.\n"
          ]
        }
      ]
    },
    {
      "cell_type": "markdown",
      "source": [
        "### **SUBGRAPH 2 (PO INVOICE FOR PROCESSING)**\n"
      ],
      "metadata": {
        "id": "FqptzbG57Omu"
      }
    },
    {
      "cell_type": "code",
      "source": [
        "import pandas as pd\n",
        "from langchain_openai import ChatOpenAI\n",
        "from langchain_core.messages import ToolMessage\n",
        "from langchain_core.messages import BaseMessage\n",
        "from langchain_core.runnables import RunnableConfig\n",
        "from langgraph.graph import StateGraph, END\n",
        "from langgraph.graph.message import add_messages\n",
        "from langchain_core.messages import SystemMessage\n",
        "from typing import Annotated, Sequence, TypedDict"
      ],
      "metadata": {
        "id": "d2GMen9z7vfe"
      },
      "execution_count": 18,
      "outputs": []
    },
    {
      "cell_type": "code",
      "source": [
        "# Define the tools for Subgraph 2 (PO Invoice Processing)\n",
        "\n",
        "@tool\n",
        "def imagenow_tool_subgraph2(invoice_id: str):\n",
        "    \"\"\"Check if invoice is present in Imagenow for Subgraph 2.\"\"\"\n",
        "\n",
        "    # Load the Imagenow dataset\n",
        "    imagenow_file_path = \"/content/image_now_modified.xlsx\"  # Replace with actual file path\n",
        "    imagenow_df = pd.read_excel(imagenow_file_path)\n",
        "\n",
        "    # Find the corresponding row based on the invoice_id\n",
        "    invoice_data = imagenow_df[imagenow_df[\"Invoice Number\"] == invoice_id]\n",
        "\n",
        "    # If the invoice is found, return the status\n",
        "    if not invoice_data.empty:\n",
        "        queue = invoice_data.iloc[0][\"Queue\"]\n",
        "        return {\n",
        "            \"status\": \"Present\",\n",
        "            \"queue\": queue\n",
        "        }\n",
        "    else:\n",
        "        return {\"status\": \"Not Present\"}\n",
        "\n",
        "# Define the Email Tool for Subgraph 2\n",
        "@tool\n",
        "def email_tool_subgraph2(recipient: str, message: str):\n",
        "    \"\"\"Send an email to the vendor or team for Subgraph 2.\"\"\"\n",
        "    print(f\"Email forwarded to {recipient}: {message}\")\n",
        "    return {\"email_status\": \"Sent\"}\n",
        "\n",
        "# List of tools for Subgraph 2\n",
        "tools_subgraph2 = [imagenow_tool_subgraph2, email_tool_subgraph2]"
      ],
      "metadata": {
        "id": "U-dHW8WI7wS3"
      },
      "execution_count": 19,
      "outputs": []
    },
    {
      "cell_type": "code",
      "source": [
        "# Initialize the LLM and bind tools for Subgraph 2\n",
        "class AgentState_subgraph2(TypedDict):\n",
        "    \"\"\"The state of the agent for Subgraph 2.\"\"\"\n",
        "    messages: Annotated[Sequence[BaseMessage], add_messages]  # Reducer for messages\n",
        "\n",
        "tools_by_name_subgraph2 = {tool.name: tool for tool in tools_subgraph2}"
      ],
      "metadata": {
        "id": "2DMPGiWQ8QJc"
      },
      "execution_count": 21,
      "outputs": []
    },
    {
      "cell_type": "code",
      "source": [
        "# Tool node for processing tool calls in Subgraph 2\n",
        "def tool_node_subgraph2(state: AgentState_subgraph2):\n",
        "    outputs = []\n",
        "    for tool_call in state[\"messages\"][-1].tool_calls:\n",
        "        tool_result = tools_by_name_subgraph2[tool_call[\"name\"]].invoke(tool_call[\"args\"])\n",
        "\n",
        "        # Convert Timestamp objects to strings before serialization\n",
        "        for key, value in tool_result.items():\n",
        "            if isinstance(value, pd.Timestamp):\n",
        "                tool_result[key] = value.isoformat()  # Convert to ISO format string\n",
        "\n",
        "        outputs.append(\n",
        "            ToolMessage(\n",
        "                content=json.dumps(tool_result),\n",
        "                name=tool_call[\"name\"],\n",
        "                tool_call_id=tool_call[\"id\"],\n",
        "            )\n",
        "        )\n",
        "    return {\"messages\": outputs}"
      ],
      "metadata": {
        "id": "mdkFt_Lg8GbK"
      },
      "execution_count": 22,
      "outputs": []
    },
    {
      "cell_type": "code",
      "source": [
        "# Define the workflow steps (steps prompt for PO Invoice in Subgraph 2)\n",
        "steps_prompt_subgraph2 = \"\"\"\n",
        "You are an AI orchestrator for the PO Invoice Processing workflow. Follow these steps to process the query:\n",
        "\n",
        "1. Check if the invoice is present in Imagenow using the invoice ID.\n",
        "2. If the invoice is not present:\n",
        "   - Forward the email to the invoice processing team.\n",
        "3. If the invoice is present:\n",
        "   - Check in which queue it is located.\n",
        "   - Create a response based on the queue.\n",
        "4. At each step, use the appropriate tool and reason about the next action based on the tool's result.\n",
        "\"\"\"\n",
        "\n",
        "# Initialize the LLM for Subgraph 2 and bind tools\n",
        "model_subgraph2 = ChatOpenAI(model=\"gpt-4\", temperature=0).bind_tools(tools_subgraph2)\n",
        "\n",
        "# Define the LLM node for Subgraph 2\n",
        "def call_model_subgraph2(state: AgentState_subgraph2, config: RunnableConfig):\n",
        "    # Combine the steps prompt with the original system message\n",
        "    system_prompt = SystemMessage(\n",
        "        content=f\"{steps_prompt_subgraph2}\\n\\nYou are a workflow orchestrator for PO Invoice Processing. Decide which tool to use or provide a final answer based on the query.\"\n",
        "    )\n",
        "    response = model_subgraph2.invoke([system_prompt] + state[\"messages\"], config)\n",
        "    return {\"messages\": [response]}\n",
        "\n",
        "\n",
        "def should_continue_subgraph2(state: AgentState_subgraph2):\n",
        "    messages = state[\"messages\"]\n",
        "    last_message = messages[-1]\n",
        "\n",
        "    # Continue if there are pending tool calls\n",
        "    if last_message.tool_calls:\n",
        "        return \"tools\"\n",
        "    return END"
      ],
      "metadata": {
        "id": "YQtb0N7D8JZx"
      },
      "execution_count": 23,
      "outputs": []
    },
    {
      "cell_type": "code",
      "source": [
        "# ipython-input-24-6eacb34dce7c\n",
        "from langgraph.graph import StateGraph, END\n",
        "\n",
        "# Initialize the StateGraph for Subgraph 2 (PO Invoice Processing)\n",
        "workflow_subgraph2 = StateGraph(AgentState_subgraph2)\n",
        "\n",
        "# Add nodes for the agent and tools\n",
        "workflow_subgraph2.add_node(\"agent_subgraph2\", call_model_subgraph2)\n",
        "workflow_subgraph2.add_node(\"tools_subgraph2\", tool_node_subgraph2)\n",
        "\n",
        "# Set entry point for Subgraph 2\n",
        "workflow_subgraph2.set_entry_point(\"agent_subgraph2\")\n",
        "\n",
        "# Add conditional edges\n",
        "# Use '__end__' instead of 'end' to match the expected key in self.ends\n",
        "workflow_subgraph2.add_conditional_edges(\"agent_subgraph2\", should_continue_subgraph2, {\"tools\": \"tools_subgraph2\", \"__end__\": END})\n",
        "\n",
        "# Add edge from tools back to agent\n",
        "workflow_subgraph2.add_edge(\"tools_subgraph2\", \"agent_subgraph2\")\n",
        "\n",
        "# Compile the workflow for Subgraph 2\n",
        "graph2 = workflow_subgraph2.compile()"
      ],
      "metadata": {
        "id": "UzfmTkre8X3y"
      },
      "execution_count": 32,
      "outputs": []
    },
    {
      "cell_type": "code",
      "source": [
        "from IPython.display import Image\n",
        "\n",
        "# Assuming `graph.get_graph()` provides a graph object and `.draw_png()` generates a PNG image\n",
        "# Visualize the graph in a Jupyter notebook\n",
        "Image(graph2.get_graph().draw_png())"
      ],
      "metadata": {
        "colab": {
          "base_uri": "https://localhost:8080/",
          "height": 382
        },
        "id": "QxLbWO-38cmD",
        "outputId": "4773670a-c655-4613-cf31-b647def5705c"
      },
      "execution_count": 26,
      "outputs": [
        {
          "output_type": "execute_result",
          "data": {
            "image/png": "[encoded data removed]",
            "text/plain": [
              "<IPython.core.display.Image object>"
            ]
          },
          "metadata": {},
          "execution_count": 26
        }
      ]
    },
    {
      "cell_type": "code",
      "source": [
        "# Helper function for formatting the output stream\n",
        "def print_stream(stream):\n",
        "    for s in stream:\n",
        "        message = s[\"messages\"][-1]\n",
        "        if isinstance(message, tuple):\n",
        "            print(message)\n",
        "        else:\n",
        "            message.pretty_print()\n",
        "\n",
        "# Example state for Subgraph 2 (PO Invoice for Processing)\n",
        "state_subgraph2 = {\n",
        "    \"messages\": [\n",
        "        (\"user\", \"Check invoice status in Imagenow for INV-0003 and process if required.\")\n",
        "    ]\n",
        "}\n",
        "\n",
        "# Execute the subgraph (graph2) and stream the output\n",
        "stream_result = graph2.stream(state_subgraph2, stream_mode=\"values\")\n",
        "\n",
        "# Print the streamed output\n",
        "print_stream(stream_result)\n",
        "\n"
      ],
      "metadata": {
        "colab": {
          "base_uri": "https://localhost:8080/"
        },
        "id": "2zqyKZYS8zzK",
        "outputId": "008cdd2d-8b1e-4e43-e14f-444e501505c9"
      },
      "execution_count": 34,
      "outputs": [
        {
          "output_type": "stream",
          "name": "stdout",
          "text": [
            "================================\u001b[1m Human Message \u001b[0m=================================\n",
            "\n",
            "Check invoice status in Imagenow for INV-0003 and process if required.\n",
            "==================================\u001b[1m Ai Message \u001b[0m==================================\n",
            "Tool Calls:\n",
            "  imagenow_tool_subgraph2 (call_5kqLuTxnrPy0NXE9FR7hASB2)\n",
            " Call ID: call_5kqLuTxnrPy0NXE9FR7hASB2\n",
            "  Args:\n",
            "    invoice_id: INV-0003\n",
            "=================================\u001b[1m Tool Message \u001b[0m=================================\n",
            "Name: imagenow_tool_subgraph2\n",
            "\n",
            "{\"status\": \"Present\", \"queue\": \"Nil\"}\n",
            "==================================\u001b[1m Ai Message \u001b[0m==================================\n",
            "\n",
            "The invoice INV-0003 is present in Imagenow and it is not in any queue currently. No further action is required at this moment.\n"
          ]
        }
      ]
    },
    {
      "cell_type": "markdown",
      "source": [
        "### **Parent Graph**"
      ],
      "metadata": {
        "id": "tm6z8Jzak8SD"
      }
    },
    {
      "cell_type": "code",
      "source": [
        "from langchain_openai import ChatOpenAI\n",
        "from langchain_core.messages import SystemMessage\n",
        "\n",
        "# Define the categorize_email function\n",
        "def categorize_email(state: dict):\n",
        "    # Use LLM to categorize the email based on the content (state['category'])\n",
        "    model = ChatOpenAI(model=\"gpt-4\", temperature=0)\n",
        "\n",
        "    system_prompt = SystemMessage(content=\"Classify the email into one of the categories: 'Past Due Enquiry', 'PO Invoice for Processing'.\")\n",
        "    messages = [system_prompt, state[\"category\"]]  # Assuming state[\"category\"] contains the email content\n",
        "\n",
        "    result = model.invoke(messages)  # LLM response classifying the email\n",
        "\n",
        "    state[\"category\"] = result.content  # Set the category in the state\n",
        "    return state\n",
        "\n",
        "# Example input state\n",
        "state_input = {\n",
        "    \"category\": \"Check the payment status of invoice INV-0003. PO number is 77649657916\"\n",
        "}\n",
        "\n",
        "# Execute the function\n",
        "result = categorize_email(state_input)\n",
        "\n",
        "# Print the output\n",
        "print(\"Categorized Email: \", result[\"category\"])\n"
      ],
      "metadata": {
        "colab": {
          "base_uri": "https://localhost:8080/"
        },
        "id": "LIbr8yhlKpEi",
        "outputId": "06aac8fd-a747-47ac-bdd7-a68eebd71e16"
      },
      "execution_count": 78,
      "outputs": [
        {
          "output_type": "stream",
          "name": "stdout",
          "text": [
            "Categorized Email:  'Past Due Enquiry'\n"
          ]
        }
      ]
    },
    {
      "cell_type": "code",
      "source": [
        "from langgraph.graph import StateGraph, END\n",
        "from typing import TypedDict\n",
        "from langchain_core.messages import SystemMessage\n",
        "from langchain_openai import ChatOpenAI\n",
        "\n",
        "\n",
        "\n",
        "# Categorization function using LLM to classify the email\n",
        "def categorize_email(state: ParentState):\n",
        "    # Use LLM to categorize the email based on the content (state['category'])\n",
        "    model = ChatOpenAI(model=\"gpt-4\", temperature=0)\n",
        "\n",
        "    system_prompt = SystemMessage(content=\"Classify the email into one of the categories: 'Past Due Enquiry', 'PO Invoice for Processing'.\")\n",
        "    messages = [system_prompt, state[\"category\"]]  # Assuming state[\"category\"] contains the email content\n",
        "\n",
        "    result = model.invoke(messages)  # LLM response classifying the email\n",
        "\n",
        "    state[\"category\"] = result.content.strip()  # Set the category in the state\n",
        "    return state\n",
        "\n",
        "# Conditional function to route the workflow based on email category\n",
        "def categorize_decision(state: ParentState):\n",
        "    # Check the category that was set by the LLM\n",
        "    if state[\"category\"] == \"Past Due Enquiry\":\n",
        "        return \"graph1\"  # Route to graph1 (Past Due Enquiry)\n",
        "    elif state[\"category\"] == \"PO Invoice for Processing\":\n",
        "        return \"graph2\"  # Route to graph2 (PO Invoice for Processing)\n",
        "    else:\n",
        "        return END  # End the workflow if the category is not recognized\n",
        "\n",
        "\n"
      ],
      "metadata": {
        "id": "I6tPMB9QPV1W"
      },
      "execution_count": 82,
      "outputs": []
    },
    {
      "cell_type": "code",
      "source": [
        "# Parent Graph Initialization\n",
        "parent_builder = StateGraph(ParentState)\n",
        "\n",
        "# Add nodes for categorization and subgraphs\n",
        "parent_builder.add_node(\"categorize_email\", categorize_email)\n",
        "parent_builder.add_node(\"graph1\", graph1)  # Add compiled graph1 (Past Due Enquiry) as a node\n",
        "parent_builder.add_node(\"graph2\", graph2)  # Add compiled graph2 (PO Invoice for Processing) as a node\n",
        "\n",
        "# Set entry point for the parent graph\n",
        "parent_builder.set_entry_point(\"categorize_email\")\n",
        "\n",
        "# Add conditional edges to route based on email category\n",
        "parent_builder.add_conditional_edges(\"categorize_email\", categorize_decision, {\n",
        "    \"graph1\": \"graph1\",  # If categorized as \"Past Due Enquiry\", route to graph1\n",
        "    \"graph2\": \"graph2\",  # If categorized as \"PO Invoice for Processing\", route to graph2\n",
        "    END: END  # End if no valid category\n",
        "})\n",
        "\n",
        "# Compile the parent graph\n",
        "parent_graph = parent_builder.compile()\n",
        "\n",
        "# Example input to test the parent graph\n",
        "state_input = {\n",
        "    \"category\": \"Check the payment status of invoice INV-0003. PO number is 77649657916\",\n",
        "    \"invoice_id\": \"INV-0003\",\n",
        "    \"po_number\": \"77649657916\"\n",
        "}\n",
        "\n",
        "# Execute the parent graph\n",
        "result = parent_graph.invoke(state_input)\n",
        "print(result)\n"
      ],
      "metadata": {
        "colab": {
          "base_uri": "https://localhost:8080/"
        },
        "id": "o-_OWUxQTW1a",
        "outputId": "8a40983e-bc3d-46bd-90de-2649897205ea"
      },
      "execution_count": 83,
      "outputs": [
        {
          "output_type": "stream",
          "name": "stdout",
          "text": [
            "{'messages': [], 'category': \"'Past Due Enquiry'\", 'invoice_id': 'INV-0003', 'po_number': '77649657916'}\n"
          ]
        }
      ]
    },
    {
      "cell_type": "code",
      "source": [
        "from IPython.display import Image\n",
        "\n",
        "# Assuming `graph.get_graph()` provides a graph object and `.draw_png()` generates a PNG image\n",
        "# Visualize the graph in a Jupyter notebook\n",
        "Image(parent_graph.get_graph().draw_png())"
      ],
      "metadata": {
        "colab": {
          "base_uri": "https://localhost:8080/",
          "height": 364
        },
        "id": "Afm5k4yrP7ZA",
        "outputId": "034e0874-f9f0-4391-9229-c8725f01b69e"
      },
      "execution_count": 49,
      "outputs": [
        {
          "output_type": "execute_result",
          "data": {
            "image/png": "[encoded data removed]",
            "text/plain": [
              "<IPython.core.display.Image object>"
            ]
          },
          "metadata": {},
          "execution_count": 49
        }
      ]
    },
    {
      "cell_type": "code",
      "source": [
        "print(\"State being passed to graph1:\", state)\n"
      ],
      "metadata": {
        "colab": {
          "base_uri": "https://localhost:8080/"
        },
        "id": "t25FrYDmZ4c7",
        "outputId": "9e7b4a80-3c1c-4685-dfee-7320c4b8b863"
      },
      "execution_count": 70,
      "outputs": [
        {
          "output_type": "stream",
          "name": "stdout",
          "text": [
            "State being passed to graph1: {'messages': [('user', 'Please check the payment status of INV-0001. The PO number is 47687632524.')]}\n"
          ]
        }
      ]
    },
    {
      "cell_type": "code",
      "source": [
        "from typing import Annotated, Sequence, TypedDict\n",
        "from langchain_core.messages import BaseMessage\n",
        "from langgraph.graph.message import add_messages\n",
        "\n",
        "# Parent state, which will handle both graph 1 and graph 2\n",
        "class ParentState(TypedDict):\n",
        "    \"\"\"The state for the parent graph, which will handle both graph 1 and graph 2.\"\"\"\n",
        "    messages: Annotated[Sequence[BaseMessage], add_messages]  # Reducer for messages\n",
        "    category: str  # Email category (e.g., 'Past Due Enquiry', 'PO Invoice for Processing')\n",
        "    invoice_id: str\n",
        "    po_number: str\n"
      ],
      "metadata": {
        "id": "24y3nuRgbZp9"
      },
      "execution_count": 81,
      "outputs": []
    },
    {
      "cell_type": "code",
      "source": [
        "from IPython.display import Image\n",
        "\n",
        "# Assuming `graph.get_graph()` provides a graph object and `.draw_png()` generates a PNG image\n",
        "# Visualize the graph in a Jupyter notebook\n",
        "Image(parent_graph.get_graph().draw_png())"
      ],
      "metadata": {
        "colab": {
          "base_uri": "https://localhost:8080/",
          "height": 364
        },
        "id": "hTYzObPYlLNz",
        "outputId": "f1c5db9c-6105-4f15-86f7-46e6149df5a0"
      },
      "execution_count": 74,
      "outputs": [
        {
          "output_type": "execute_result",
          "data": {
            "image/png": "[encoded data removed]",
            "text/plain": [
              "<IPython.core.display.Image object>"
            ]
          },
          "metadata": {},
          "execution_count": 74
        }
      ]
    },
    {
      "cell_type": "code",
      "source": [
        "from langchain_openai import ChatOpenAI\n",
        "from langchain_core.messages import SystemMessage\n",
        "\n",
        "# Initialize the model and bind the tools for parent graph\n",
        "model = ChatOpenAI(model=\"gpt-4\", temperature=0).bind_tools(tools)\n",
        "\n",
        "# Categorization function using LLM to classify the email\n",
        "def categorize_email(state: ParentState):\n",
        "    # Use LLM to categorize the email based on the content (state['category'])\n",
        "    system_prompt = SystemMessage(content=\"Classify the email into one of the categories: 'Past Due Enquiry', 'PO Invoice for Processing'.\")\n",
        "    messages = [system_prompt, state[\"category\"]]  # state[\"category\"] is the email content\n",
        "\n",
        "    result = model.invoke(messages)  # LLM response classifying the email\n",
        "    print(f\"LLM Response: {result.content}\")  # Debugging output\n",
        "\n",
        "    state[\"category\"] = result.content  # Set the category in the state\n",
        "    return state\n",
        "\n",
        "# Conditional function to route the workflow based on email category\n",
        "def categorize_decision(state: ParentState):\n",
        "    print(f\"Category Decision: {state['category']}\")  # Debugging output\n",
        "    if state[\"category\"] == \"Past Due Enquiry\":\n",
        "        return \"graph1\"  # Route to graph1 (Past Due Enquiry)\n",
        "    elif state[\"category\"] == \"PO Invoice for Processing\":\n",
        "        return \"graph2\"  # Route to graph2 (PO Invoice for Processing)\n",
        "    else:\n",
        "        return END  # End the workflow if the category is not recognized\n",
        "\n",
        "# Parent Graph Initialization\n",
        "parent_builder = StateGraph(ParentState)\n",
        "\n",
        "# Add nodes for categorization and subgraphs\n",
        "parent_builder.add_node(\"categorize_email\", categorize_email)\n",
        "parent_builder.add_node(\"graph1\", graph1)  # Add compiled graph1 (Past Due Enquiry) as a node\n",
        "parent_builder.add_node(\"graph2\", graph2)  # Add compiled graph2 (PO Invoice for Processing) as a node\n",
        "\n",
        "# Set entry point for the parent graph\n",
        "parent_builder.set_entry_point(\"categorize_email\")\n",
        "\n",
        "# Add conditional edges to route based on email category\n",
        "parent_builder.add_conditional_edges(\"categorize_email\", categorize_decision, {\n",
        "    \"graph1\": \"graph1\",  # If categorized as \"Past Due Enquiry\", route to graph1\n",
        "    \"graph2\": \"graph2\",  # If categorized as \"PO Invoice for Processing\", route to graph2\n",
        "    END: END  # End if no valid category\n",
        "})\n",
        "\n",
        "# Compile the parent graph\n",
        "parent_graph = parent_builder.compile()\n",
        "\n",
        "# Example input to test the parent graph\n",
        "state_input = {\n",
        "    \"category\": \"Check the payment status of invoice INV-0003. PO number is 77649657916\",\n",
        "    \"invoice_id\": \"INV-0003\",\n",
        "    \"po_number\": \"77649657916\"\n",
        "}\n",
        "\n",
        "# Execute the parent graph\n",
        "result = parent_graph.invoke(state_input)\n",
        "print(result)\n"
      ],
      "metadata": {
        "colab": {
          "base_uri": "https://localhost:8080/"
        },
        "id": "U0fVu8pvlSax",
        "outputId": "a5a155de-1e3d-418a-b64f-9e8e3821e30d"
      },
      "execution_count": 76,
      "outputs": [
        {
          "output_type": "stream",
          "name": "stdout",
          "text": [
            "LLM Response: \n",
            "Category Decision: \n",
            "{'messages': [], 'category': '', 'invoice_id': 'INV-0003', 'po_number': '77649657916'}\n"
          ]
        }
      ]
    },
    {
      "cell_type": "code",
      "source": [
        "from langchain_openai import ChatOpenAI\n",
        "from langchain_core.messages import SystemMessage\n",
        "\n",
        "# Initialize the model and bind the tools for parent graph\n",
        "model = ChatOpenAI(model=\"gpt-4\", temperature=0).bind_tools(tools)\n",
        "\n",
        "# Categorization function using LLM to classify the email\n",
        "def categorize_email(state: ParentState):\n",
        "    # Assuming the category should be the email content itself (rather than an empty field)\n",
        "    email_content = state[\"category\"]  # Email content should be passed for categorization\n",
        "\n",
        "    # Use LLM to categorize the email based on the content (email content here)\n",
        "    system_prompt = SystemMessage(content=\"Classify the email into one of the categories: 'Past Due Enquiry', 'PO Invoice for Processing'.\")\n",
        "    messages = [system_prompt, email_content]  # Pass the actual email content for classification\n",
        "\n",
        "    result = model.invoke(messages)  # LLM response classifying the email\n",
        "    print(f\"LLM Response: {result.content}\")  # Debugging output\n",
        "\n",
        "    state[\"category\"] = result.content.strip()  # Ensure category is set properly\n",
        "    return state\n",
        "\n",
        "# Conditional function to route the workflow based on email category\n",
        "def categorize_decision(state: ParentState):\n",
        "    print(f\"Category Decision: {state['category']}\")  # Debugging output\n",
        "    if state[\"category\"] == \"Past Due Enquiry\":\n",
        "        return \"graph1\"  # Route to graph1 (Past Due Enquiry)\n",
        "    elif state[\"category\"] == \"PO Invoice for Processing\":\n",
        "        return \"graph2\"  # Route to graph2 (PO Invoice for Processing)\n",
        "    else:\n",
        "        return END  # End the workflow if the category is not recognized\n",
        "\n",
        "# Parent Graph Initialization\n",
        "parent_builder = StateGraph(ParentState)\n",
        "\n",
        "# Add nodes for categorization and subgraphs\n",
        "parent_builder.add_node(\"categorize_email\", categorize_email)\n",
        "parent_builder.add_node(\"graph1\", graph1)  # Add compiled graph1 (Past Due Enquiry) as a node\n",
        "parent_builder.add_node(\"graph2\", graph2)  # Add compiled graph2 (PO Invoice for Processing) as a node\n",
        "\n",
        "# Set entry point for the parent graph\n",
        "parent_builder.set_entry_point(\"categorize_email\")\n",
        "\n",
        "# Add conditional edges to route based on email category\n",
        "parent_builder.add_conditional_edges(\"categorize_email\", categorize_decision, {\n",
        "    \"graph1\": \"graph1\",  # If categorized as \"Past Due Enquiry\", route to graph1\n",
        "    \"graph2\": \"graph2\",  # If categorized as \"PO Invoice for Processing\", route to graph2\n",
        "    END: END  # End if no valid category\n",
        "})\n",
        "\n",
        "# Compile the parent graph\n",
        "parent_graph = parent_builder.compile()\n",
        "\n",
        "# Example input to test the parent graph\n",
        "state_input = {\n",
        "    \"category\": \"Check the payment status of invoice INV-0003. PO number is 77649657916\",  # This is the email content now\n",
        "    \"invoice_id\": \"INV-0003\",\n",
        "    \"po_number\": \"77649657916\"\n",
        "}\n",
        "\n",
        "# Execute the parent graph\n",
        "result = parent_graph.invoke(state_input)\n",
        "print(result)\n"
      ],
      "metadata": {
        "colab": {
          "base_uri": "https://localhost:8080/"
        },
        "id": "aMgAlIxal9eX",
        "outputId": "8adf5a74-51f1-4a6e-e002-fd3e55511d55"
      },
      "execution_count": 77,
      "outputs": [
        {
          "output_type": "stream",
          "name": "stdout",
          "text": [
            "LLM Response: \n",
            "Category Decision: \n",
            "{'messages': [], 'category': '', 'invoice_id': 'INV-0003', 'po_number': '77649657916'}\n"
          ]
        }
      ]
    },
    {
      "cell_type": "code",
      "source": [],
      "metadata": {
        "id": "GnIhD5AVmVfR"
      },
      "execution_count": null,
      "outputs": []
    }
  ]
}